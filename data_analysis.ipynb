{
 "cells": [
  {
   "cell_type": "code",
   "execution_count": 18,
   "metadata": {},
   "outputs": [],
   "source": [
    "# load libraries\n",
    "import pandas as pd\n",
    "import numpy as np\n",
    "import matplotlib.pyplot as plt\n",
    "import seaborn as sns"
   ]
  },
  {
   "cell_type": "code",
   "execution_count": 19,
   "metadata": {},
   "outputs": [
    {
     "name": "stdout",
     "output_type": "stream",
     "text": [
      "Sheet Names: ['Data', 'Legend', 'N10', 'B30 Pro']\n"
     ]
    }
   ],
   "source": [
    "# load the excel sheet into a Dataframe\n",
    "xls = pd.ExcelFile(\"UW_Churn_Pred_Data.xls\")\n",
    "print(f\"Sheet Names: {xls.sheet_names}\")"
   ]
  },
  {
   "cell_type": "code",
   "execution_count": 20,
   "metadata": {},
   "outputs": [],
   "source": [
    "# Load the B30 Pro sheet\n",
    "data = pd.read_excel(xls, sheet_name=\"Data\")"
   ]
  },
  {
   "cell_type": "code",
   "execution_count": 21,
   "metadata": {},
   "outputs": [
    {
     "name": "stdout",
     "output_type": "stream",
     "text": [
      "    Sale Channel     Model Warranty       Feedback           Verification  \\\n",
      "0  B2C 3rd party       B20      Yes  Amazon Return  no damages, no issues   \n",
      "1  B2C 3rd party  A23 Plus      Yes  Amazon Return  no damages, no issues   \n",
      "2  B2C 3rd party       A15      Yes            NaN                    NaN   \n",
      "3  B2C 3rd party  A23 Plus      Yes  Amazon Return  no damages, no issues   \n",
      "4  B2C 3rd party       B20      Yes  Amazon Return  no damages, no issues   \n",
      "\n",
      "  Defect / Damage type  Responsible Party    Type  \\\n",
      "0            No defect  Customer: Remorse  Return   \n",
      "1            No defect  Customer: Remorse  Return   \n",
      "2                  NaN                NaN     NaN   \n",
      "3            No defect  Customer: Remorse  Return   \n",
      "4            No defect  Customer: Remorse  Return   \n",
      "\n",
      "  Spare Parts Used if returned Final Status  ...  Bluetooth (# of pairs)  \\\n",
      "0                           No     Refurb A  ...                       1   \n",
      "1                           No     Refurb B  ...                       0   \n",
      "2                          NaN          NaN  ...                       5   \n",
      "3                           No     Refurb B  ...                       0   \n",
      "4                           No     Refurb B  ...                       1   \n",
      "\n",
      "   Wifi/Internet Connection Wallpaper Registered Email last boot - activate  \\\n",
      "0                      True         1              1.0             0.000000   \n",
      "1                      True         1              1.0             0.000023   \n",
      "2                      True         2              NaN             0.000000   \n",
      "3                      True         1              0.0             0.151493   \n",
      "4                      True         0              1.0             0.000000   \n",
      "\n",
      "  last boot - interval        interval date      last bootl date  \\\n",
      "0             0.000000  2024-11-18 00:52:52  2024-11-18 00:52:52   \n",
      "1             0.000000  2024-11-18 00:35:59  2024-11-18 00:35:59   \n",
      "2             0.000000  2024-11-17 23:42:12  2024-11-17 23:42:12   \n",
      "3             0.151481  2024-11-17 23:28:58  2024-11-18 03:07:06   \n",
      "4             0.000000  2024-11-17 21:50:16  2024-11-17 21:50:16   \n",
      "\n",
      "         activate date  Age Range  \n",
      "0  2024-11-18 00:52:52      30-40  \n",
      "1  2024-11-18 00:35:57      30-40  \n",
      "2  2024-11-17 23:42:12      20-30  \n",
      "3  2024-11-17 23:28:57      20-30  \n",
      "4  2024-11-17 21:50:16      40-50  \n",
      "\n",
      "[5 rows x 28 columns]\n"
     ]
    }
   ],
   "source": [
    "# show the first 5 rows of the dataset\n",
    "print(data.head())"
   ]
  },
  {
   "cell_type": "code",
   "execution_count": 22,
   "metadata": {},
   "outputs": [
    {
     "name": "stdout",
     "output_type": "stream",
     "text": [
      "<class 'pandas.core.frame.DataFrame'>\n",
      "RangeIndex: 4349 entries, 0 to 4348\n",
      "Data columns (total 28 columns):\n",
      " #   Column                        Non-Null Count  Dtype  \n",
      "---  ------                        --------------  -----  \n",
      " 0   Sale Channel                  4349 non-null   object \n",
      " 1   Model                         4347 non-null   object \n",
      " 2   Warranty                      4342 non-null   object \n",
      " 3   Feedback                      2677 non-null   object \n",
      " 4   Verification                  2680 non-null   object \n",
      " 5   Defect / Damage type          2678 non-null   object \n",
      " 6   Responsible Party             2677 non-null   object \n",
      " 7   Type                          2681 non-null   object \n",
      " 8   Spare Parts Used if returned  2674 non-null   object \n",
      " 9   Final Status                  2681 non-null   object \n",
      " 10  Customer Service Requested    4349 non-null   int64  \n",
      " 11  Number of Sim                 4349 non-null   int64  \n",
      " 12  Sim Country                   4349 non-null   object \n",
      " 13  Slot 1                        4349 non-null   object \n",
      " 14  Slot 2                        4349 non-null   object \n",
      " 15  Sim Card                      4349 non-null   object \n",
      " 16  Screen Usage (s)              4349 non-null   int64  \n",
      " 17  App Uage (s)                  4349 non-null   object \n",
      " 18  Bluetooth (# of pairs)        4349 non-null   int64  \n",
      " 19  Wifi/Internet Connection      4349 non-null   bool   \n",
      " 20  Wallpaper                     4349 non-null   int64  \n",
      " 21  Registered Email              2681 non-null   float64\n",
      " 22  last boot - activate          4349 non-null   float64\n",
      " 23  last boot - interval          4349 non-null   float64\n",
      " 24  interval date                 4349 non-null   object \n",
      " 25  last bootl date               4349 non-null   object \n",
      " 26  activate date                 4349 non-null   object \n",
      " 27  Age Range                     4349 non-null   object \n",
      "dtypes: bool(1), float64(3), int64(5), object(19)\n",
      "memory usage: 921.7+ KB\n",
      "None\n"
     ]
    }
   ],
   "source": [
    "# Display basic info about the data\n",
    "print(data.info())"
   ]
  },
  {
   "cell_type": "code",
   "execution_count": 27,
   "metadata": {},
   "outputs": [
    {
     "name": "stdout",
     "output_type": "stream",
     "text": [
      "       Customer Service Requested  Number of Sim  Screen Usage (s)  \\\n",
      "count                 4349.000000    4349.000000       4349.000000   \n",
      "mean                     0.414808       0.657163      28528.007358   \n",
      "std                      0.819452       0.772966      13222.610508   \n",
      "min                      0.000000       0.000000          0.000000   \n",
      "25%                      0.000000       0.000000      17972.000000   \n",
      "50%                      0.000000       0.000000      28972.000000   \n",
      "75%                      1.000000       1.000000      39898.000000   \n",
      "max                      5.000000       2.000000      49975.000000   \n",
      "\n",
      "       Bluetooth (# of pairs)    Wallpaper  Registered Email  \\\n",
      "count             4349.000000  4349.000000       2681.000000   \n",
      "mean                 1.752357     6.581283          0.829914   \n",
      "std                  1.483138    28.739570          0.375778   \n",
      "min                  0.000000     0.000000          0.000000   \n",
      "25%                  0.000000     0.000000          1.000000   \n",
      "50%                  2.000000     1.000000          1.000000   \n",
      "75%                  3.000000     1.000000          1.000000   \n",
      "max                  6.000000   224.000000          1.000000   \n",
      "\n",
      "       last boot - activate  last boot - interval  \n",
      "count           4349.000000           4349.000000  \n",
      "mean              44.884767              2.337189  \n",
      "std               38.616904             15.964296  \n",
      "min                0.000000            -29.454618  \n",
      "25%                1.912037             -2.018113  \n",
      "50%               43.157593              0.202164  \n",
      "75%               84.039016              1.539468  \n",
      "max              121.541678             97.202407  \n"
     ]
    }
   ],
   "source": [
    "print(data.describe())"
   ]
  },
  {
   "cell_type": "code",
   "execution_count": 23,
   "metadata": {},
   "outputs": [
    {
     "name": "stdout",
     "output_type": "stream",
     "text": [
      "Missing Values:\n",
      "Sale Channel                       0\n",
      "Model                              2\n",
      "Warranty                           7\n",
      "Feedback                        1672\n",
      "Verification                    1669\n",
      "Defect / Damage type            1671\n",
      "Responsible Party               1672\n",
      "Type                            1668\n",
      "Spare Parts Used if returned    1675\n",
      "Final Status                    1668\n",
      "Customer Service Requested         0\n",
      "Number of Sim                      0\n",
      "Sim Country                        0\n",
      "Slot 1                             0\n",
      "Slot 2                             0\n",
      "Sim Card                           0\n",
      "Screen Usage (s)                   0\n",
      "App Uage (s)                       0\n",
      "Bluetooth (# of pairs)             0\n",
      "Wifi/Internet Connection           0\n",
      "Wallpaper                          0\n",
      "Registered Email                1668\n",
      "last boot - activate               0\n",
      "last boot - interval               0\n",
      "interval date                      0\n",
      "last bootl date                    0\n",
      "activate date                      0\n",
      "Age Range                          0\n",
      "dtype: int64\n"
     ]
    }
   ],
   "source": [
    "# check for missing values\n",
    "print(f\"Missing Values:\\n{data.isnull().sum()}\")"
   ]
  },
  {
   "cell_type": "markdown",
   "metadata": {},
   "source": [
    "This shows that there are missing data!"
   ]
  },
  {
   "cell_type": "code",
   "execution_count": 24,
   "metadata": {},
   "outputs": [
    {
     "name": "stdout",
     "output_type": "stream",
     "text": [
      "Number of duplicate rows: 0\n"
     ]
    }
   ],
   "source": [
    "# check for duplicates\n",
    "duplicates = data.duplicated().sum()\n",
    "print(f\"Number of duplicate rows: {duplicates}\")"
   ]
  },
  {
   "cell_type": "code",
   "execution_count": 36,
   "metadata": {},
   "outputs": [
    {
     "name": "stdout",
     "output_type": "stream",
     "text": [
      "Sale Channel unique values: ['B2C 3rd party' 'B2C NUU Website' 'B2B']\n",
      "Sale Channel value counts:\n",
      "Sale Channel\n",
      "B2C 3rd party      3447\n",
      "B2C NUU Website     577\n",
      "B2B                 325\n",
      "Name: count, dtype: int64\n"
     ]
    },
    {
     "data": {
      "image/png": "[encoded data removed]",
      "text/plain": [
       "<Figure size 640x480 with 1 Axes>"
      ]
     },
     "metadata": {},
     "output_type": "display_data"
    },
    {
     "name": "stdout",
     "output_type": "stream",
     "text": [
      "Model unique values: ['B20' 'A23 Plus' 'A15' 'Earbuds A' 'Earbuds B' 'B10' 'B20 TPU' 'B30 Pro'\n",
      " 'A25' 'B15' 'F4L' 'X6P' 'A23Plus' 'A23 PLus' 'A11L' 'A9L' 'Tab 8 Plus'\n",
      " 'Buds B' 'Buds A' nan ' A23 Plus' 'A23 ' 'G5' 'A10L' 'F4L ' 'N10' 'A25 '\n",
      " 'B30 ' 'Tab10' 'B30' 'EArbuds A']\n",
      "Model value counts:\n",
      "Model\n",
      "A23 Plus      1600\n",
      "B20            602\n",
      "A15            598\n",
      "A25            410\n",
      "B15            225\n",
      "B30 Pro        194\n",
      "B10            174\n",
      "F4L            144\n",
      "X6P             73\n",
      "Earbuds A       72\n",
      "A11L            52\n",
      "Earbuds B       47\n",
      "B20 TPU         38\n",
      "A23Plus         24\n",
      "Tab 8 Plus      23\n",
      " A23 Plus       12\n",
      "A10L            10\n",
      "Buds B           9\n",
      "A25              7\n",
      "A23 PLus         5\n",
      "N10              5\n",
      "Buds A           4\n",
      "Tab10            4\n",
      "A9L              3\n",
      "G5               2\n",
      "A23              2\n",
      "F4L              2\n",
      "B30              2\n",
      "B30              2\n",
      "EArbuds A        2\n",
      "Name: count, dtype: int64\n"
     ]
    },
    {
     "data": {
      "image/png": "[encoded data removed]",
      "text/plain": [
       "<Figure size 640x480 with 1 Axes>"
      ]
     },
     "metadata": {},
     "output_type": "display_data"
    }
   ],
   "source": [
    "categorical_features = ['Sale Channel', 'Model']\n",
    "\n",
    "for feature in categorical_features:\n",
    "    print(f\"{feature} unique values: {data[feature].unique()}\")\n",
    "    # Display value counts for each feature\n",
    "    print(f\"{feature} value counts:\\n{data[feature].value_counts()}\")\n",
    "    \n",
    "    # Plot the distribution of each feature\n",
    "    data[feature].value_counts().plot(kind='bar', title=f'{feature} Distribution')\n",
    "    plt.xlabel(feature)  # Adding x-label for clarity\n",
    "    plt.ylabel('Count')  # Adding y-label for clarity\n",
    "    plt.show()"
   ]
  }
 ],
 "metadata": {
  "kernelspec": {
   "display_name": ".venv",
   "language": "python",
   "name": "python3"
  },
  "language_info": {
   "codemirror_mode": {
    "name": "ipython",
    "version": 3
   },
   "file_extension": ".py",
   "mimetype": "text/x-python",
   "name": "python",
   "nbconvert_exporter": "python",
   "pygments_lexer": "ipython3",
   "version": "3.10.11"
  }
 },
 "nbformat": 4,
 "nbformat_minor": 2
}
