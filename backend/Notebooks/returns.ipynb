{
 "cells": [
  {
   "cell_type": "code",
   "execution_count": null,
   "metadata": {},
   "outputs": [],
   "source": [
    "# Goals for this notebook\n",
    "# - create version of data with churn column                            (done)\n",
    "# - analyze 'verification' and 'defect' tab & responsible party columns (done)\n",
    "# - graph out and count the reasons and types of returns                (done)\n",
    "# - create relational matrix heatmap to find out which other factors are correlated with churn\n",
    "# - go through full data sheet and figure out not churned devices, do similar heatmap for non churn params"
   ]
  },
  {
   "cell_type": "code",
   "execution_count": 2,
   "metadata": {},
   "outputs": [],
   "source": [
    "import pandas as pd\n",
    "import numpy as np\n",
    "import matplotlib.pyplot as plt"
   ]
  },
  {
   "cell_type": "code",
   "execution_count": 4,
   "metadata": {},
   "outputs": [
    {
     "name": "stdout",
     "output_type": "stream",
     "text": [
      "Sheet Names: ['Data', 'Legend', 'N10', 'B30 Pro', 'Data Before Feb 13']\n"
     ]
    }
   ],
   "source": [
    "# load the excel sheet into a Dataframe\n",
    "xls_file = pd.ExcelFile(\"./UW_Churn_Pred_Data.xls\")\n",
    "print(f\"Sheet Names: {xls_file.sheet_names}\")"
   ]
  },
  {
   "cell_type": "code",
   "execution_count": 6,
   "metadata": {},
   "outputs": [],
   "source": [
    "# Create a dataframe of each sheet\n",
    "data_df = pd.read_excel(xls_file, sheet_name=\"Data\")\n",
    "beforeFeb_df = pd.read_excel(xls_file, sheet_name=\"Data Before Feb 13\")"
   ]
  },
  {
   "cell_type": "code",
   "execution_count": 29,
   "metadata": {},
   "outputs": [],
   "source": [
    "# In beforeFeb_df, look at 'Type' column, if 'return' then look ta 'Defect / Damage Type' column and get the reason\n",
    "# - also look at 'Product/Model #' column and get counts of each one that was a return\n",
    "# In data_df, can do the same steps, but its named 'Model'\n",
    "\n",
    "# Step 1: filter data frame to only have rows where the 'Type' column is 'return'\n",
    "#print(beforeFeb_df.head())\n",
    "beforeFeb_returns_df = beforeFeb_df[beforeFeb_df['Type'] == 'Return']\n",
    "data_returns_df = data_df[data_df['Type'] == 'Return']\n"
   ]
  },
  {
   "cell_type": "code",
   "execution_count": 40,
   "metadata": {},
   "outputs": [
    {
     "name": "stdout",
     "output_type": "stream",
     "text": [
      "['Device number', 'Product/Model #', 'Month', 'Office Date', 'Office Time In', 'Source', 'Type', 'Warranty', 'Defect / Damage type', 'Responsible Party', 'Final Status', 'Churn', 'sim_info', 'promotion_email', 'register_email', 'interval_date', 'last_boot_date', 'active_date']\n"
     ]
    }
   ],
   "source": [
    "# print columns in the dataframe\n",
    "nlist = list(beforeFeb_returns_df.columns)\n",
    "i = 1 # want to start at one because tuples will add 0 col to excel sheet\n",
    "for col in nlist:\n",
    "    if col == \"Defect / Damage Type\":\n",
    "        print(col)\n",
    "        print(i)\n",
    "    i += 1\n",
    "print(nlist)"
   ]
  },
  {
   "cell_type": "code",
   "execution_count": null,
   "metadata": {},
   "outputs": [
    {
     "name": "stdout",
     "output_type": "stream",
     "text": [
      "Pandas(Index=0, _1=410006072, _2='N10', Month='December', _4=Timestamp('2024-12-19 00:00:00'), _5=datetime.time(15, 30), Source='B2C Amazon', Type='Return', Warranty='Yes', _9='No defect', _10='Customer: Remorse', _11='Refurb B', Churn=1.0, sim_info='[{\"slot_index\":0,\"carrier_name\":\"Emergency calls only\",\"mcc\":\"310\",\"mnc\":\"240\",\"gid\":\"6901\"}]', promotion_email=1.0, register_email=1.0, interval_date='2024-11-20 09:49:27', last_boot_date='2024-11-07 00:00:45', active_date='2024-11-07 00:00:45')\n",
      "Model Counts: {'B20': 244, 'A23 Plus': 976, 'Earbuds A': 42, 'A15': 370, 'Earbuds B': 32, 'B30 Pro': 99, 'B15': 103, 'A25': 236, 'B10': 91, 'A23Plus': 13, 'A11L': 10, 'F4L': 13, 'B20 TPU': 29, 'Buds B': 4, nan: 1, ' A23 Plus': 7, 'A23 ': 1, 'Buds A': 2, 'X6P': 1, 'A9L': 2, 'A23 PLus': 3, 'N10': 3, 'A25 ': 4, 'B30 ': 1, 'A10L': 3, 'B30': 1, 'EArbuds A': 1}\n",
      "Defect Counts: {'No defect': 2152, 'Hardware': 73, 'Microphone/Speaker': 12, 'Display or TP': 36, 'Receive/Transmit/Antenna': 1, 'Battery ': 1, 'Power (non battery)': 14, 'Software': 1, 'Camera': 2}\n"
     ]
    }
   ],
   "source": [
    "# Step 2: for each row, get the 'Defect / Damage Type' value & keep a count\n",
    "# have a dictionary of the model types and counts\n",
    "# have a dictionary of the defect types and counts\n",
    "model_counts = {}\n",
    "defect_counts = {}\n",
    "for row in beforeFeb_returns_df.itertuples():\n",
    "    # row[2] = model type\n",
    "    if row[2] not in model_counts:\n",
    "        model_counts[row[2]] = 1\n",
    "    else:\n",
    "        model_counts[row[2]] += 1\n",
    "    \n",
    "    # row[9] = defect type\n",
    "    if row[9] not in defect_counts:\n",
    "        defect_counts[row[9]] = 1\n",
    "    else:\n",
    "        defect_counts[row[9]] += 1\n",
    "\n",
    "for row in data_returns_df.itertuples():\n",
    "    # row[2] = model type\n",
    "    if row[2] not in model_counts:\n",
    "        model_counts[row[2]] = 1\n",
    "    else:\n",
    "        model_counts[row[2]] += 1\n",
    "    \n",
    "    # row[6] = defect type\n",
    "    if row[6] not in defect_counts:\n",
    "        defect_counts[row[6]] = 1\n",
    "    else:\n",
    "        defect_counts[row[6]] += 1\n",
    "\n",
    "print(f\"Model Counts: {model_counts}\")\n",
    "print(f\"Defect Counts: {defect_counts}\")"
   ]
  },
  {
   "cell_type": "code",
   "execution_count": 18,
   "metadata": {},
   "outputs": [
    {
     "name": "stdout",
     "output_type": "stream",
     "text": [
      "2535\n"
     ]
    }
   ],
   "source": [
    "# Get total count of defects (from data before feb 13, and Data sheets)\n",
    "num_defects = 0\n",
    "for value in defect_counts.values():\n",
    "    num_defects += value\n",
    "\n",
    "print(num_defects)"
   ]
  },
  {
   "cell_type": "code",
   "execution_count": 23,
   "metadata": {},
   "outputs": [
    {
     "name": "stdout",
     "output_type": "stream",
     "text": [
      "{'A23 Plus': 976, 'A15': 370, 'B20': 244, 'A25': 236, 'B30 Pro': 209, 'N10': 127, 'B15': 103, 'B10': 91, 'Earbuds A': 42, 'Earbuds B': 32, 'B20 TPU': 29, 'A23Plus': 13, 'F4L': 13, 'B30': 10, 'A11L': 10, ' A23 Plus': 7, 'Buds B': 4, 'A25 ': 4, 'A23 PLus': 3, 'A10L': 3, 'Buds A': 2, 'A9L': 2, nan: 1, 'A23 ': 1, 'X6P': 1, 'B30 ': 1, 'EArbuds A': 1}\n",
      "{'No defect': 2384, 'Hardware': 73, 'Display or TP': 37, 'Power (non battery)': 14, 'Microphone/Speaker': 13, nan: 5, 'Device cannot power on': 3, 'Camera': 2, 'LCD': 1, 'Receive/Transmit/Antenna': 1, 'Battery ': 1, 'Software': 1}\n"
     ]
    }
   ],
   "source": [
    "# Sort the dictionaries\n",
    "# - have 'model_counts' and 'defect_counts' dictionaries\n",
    "# - sort them by value\n",
    "sorted_model_counts = {k: v for k, v in sorted(model_counts.items(), key=lambda item: item[1], reverse=True)}\n",
    "print(sorted_model_counts)\n",
    "sorted_defect_counts = {k: v for k, v in sorted(defect_counts.items(), key=lambda item: item[1], reverse=True)}\n",
    "print(sorted_defect_counts)"
   ]
  },
  {
   "cell_type": "code",
   "execution_count": null,
   "metadata": {},
   "outputs": [
    {
     "ename": "AttributeError",
     "evalue": "'tuple' object has no attribute 'pie'",
     "output_type": "error",
     "traceback": [
      "\u001b[31m---------------------------------------------------------------------------\u001b[39m",
      "\u001b[31mAttributeError\u001b[39m                            Traceback (most recent call last)",
      "\u001b[36mCell\u001b[39m\u001b[36m \u001b[39m\u001b[32mIn[25]\u001b[39m\u001b[32m, line 2\u001b[39m\n\u001b[32m      1\u001b[39m \u001b[38;5;66;03m# Create pie charts of the dictionaries\u001b[39;00m\n\u001b[32m----> \u001b[39m\u001b[32m2\u001b[39m plt = \u001b[43mplt\u001b[49m\u001b[43m.\u001b[49m\u001b[43mpie\u001b[49m(sorted_defect_counts.values(), labels=sorted_defect_counts.keys(), autopct=\u001b[33m'\u001b[39m\u001b[38;5;132;01m%1.1f\u001b[39;00m\u001b[38;5;132;01m%%\u001b[39;00m\u001b[33m'\u001b[39m)\n\u001b[32m      3\u001b[39m plt = plt.show()\n",
      "\u001b[31mAttributeError\u001b[39m: 'tuple' object has no attribute 'pie'"
     ]
    }
   ],
   "source": []
  },
  {
   "cell_type": "code",
   "execution_count": null,
   "metadata": {},
   "outputs": [],
   "source": []
  },
  {
   "cell_type": "code",
   "execution_count": null,
   "metadata": {},
   "outputs": [],
   "source": [
    "# Other sheets\n",
    "n10_df = pd.read_excel(xls_file, sheet_name=\"N10\")\n",
    "b30Pro_df = pd.read_excel(xls_file, sheet_name=\"B30 Pro\")"
   ]
  }
 ],
 "metadata": {
  "kernelspec": {
   "display_name": "venv",
   "language": "python",
   "name": "python3"
  },
  "language_info": {
   "codemirror_mode": {
    "name": "ipython",
    "version": 3
   },
   "file_extension": ".py",
   "mimetype": "text/x-python",
   "name": "python",
   "nbconvert_exporter": "python",
   "pygments_lexer": "ipython3",
   "version": "3.13.1"
  }
 },
 "nbformat": 4,
 "nbformat_minor": 2
}
