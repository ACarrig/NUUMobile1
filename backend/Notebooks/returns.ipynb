{
 "cells": [
  {
   "cell_type": "code",
   "execution_count": 1,
   "metadata": {},
   "outputs": [],
   "source": [
    "# Goals for this notebook\n",
    "# - create version of data with churn column\n",
    "# - create relational matrix heatmap to find out which other factors are correlated with churn\n",
    "# - on frontend graph these out\n",
    "# - analyze 'verification' and 'defect' tab & responsible party columns\n",
    "# - graph out and count the reasons and types of returns"
   ]
  },
  {
   "cell_type": "code",
   "execution_count": 2,
   "metadata": {},
   "outputs": [],
   "source": [
    "import pandas as pd\n",
    "import numpy as np\n",
    "import matplotlib.pyplot as plt"
   ]
  },
  {
   "cell_type": "code",
   "execution_count": 4,
   "metadata": {},
   "outputs": [
    {
     "name": "stdout",
     "output_type": "stream",
     "text": [
      "Sheet Names: ['Data', 'Legend', 'N10', 'B30 Pro', 'Data Before Feb 13']\n"
     ]
    }
   ],
   "source": [
    "# load the excel sheet into a Dataframe\n",
    "xls_file = pd.ExcelFile(\"./UW_Churn_Pred_Data.xls\")\n",
    "print(f\"Sheet Names: {xls_file.sheet_names}\")"
   ]
  },
  {
   "cell_type": "code",
   "execution_count": 6,
   "metadata": {},
   "outputs": [],
   "source": [
    "# Create a dataframe of each sheet\n",
    "data_df = pd.read_excel(xls_file, sheet_name=\"Data\")\n",
    "beforeFeb_df = pd.read_excel(xls_file, sheet_name=\"Data Before Feb 13\")"
   ]
  },
  {
   "cell_type": "code",
   "execution_count": 9,
   "metadata": {},
   "outputs": [],
   "source": [
    "# In beforeFeb_df, look at 'Type' column, if 'return' then look ta 'Defect / Damage Type' column and get the reason\n",
    "# - also look at 'Product/Model #' column and get counts of each one that was a return\n",
    "# In data_df, can do the same steps, but its named 'Model'\n",
    "\n",
    "# Step 1: filter data frame to only have rows where the 'Type' column is 'return'\n",
    "#print(beforeFeb_df.head())\n",
    "beforeFeb_returns_df = beforeFeb_df[beforeFeb_df['Type'] == 'Return']\n",
    "data_returns_df = data_df[data_df['Type'] == 'Return']\n"
   ]
  },
  {
   "cell_type": "code",
   "execution_count": null,
   "metadata": {},
   "outputs": [
    {
     "name": "stdout",
     "output_type": "stream",
     "text": [
      "No defect\n"
     ]
    }
   ],
   "source": [
    "# Step 2: for each row, get the 'Defect / Damage Type' value & keep a count\n",
    "# have a dictionary of the model types and counts\n",
    "# have a dictionary of the defect types and counts\n",
    "model_counts = {}\n",
    "defect_counts = {}\n",
    "for row in beforeFeb_returns_df.itertuples():\n",
    "    # row[2] = model type\n",
    "    if row[2] not in model_counts:\n",
    "        model_counts[row[2]] = 1\n",
    "    else:\n",
    "        model_counts[row[2]] += 1\n",
    "    \n",
    "    # row[9] = defect type\n",
    "    if row[9] not in defect_counts:\n",
    "        defect_counts[row[9]] = 1\n",
    "    else:\n",
    "        defect_counts[row[9]] += 1\n",
    "\n",
    "for row in data_returns_df.itertuples():\n",
    "    # row[2] = model type\n",
    "    if row[2] not in model_counts:\n",
    "        model_counts[row[2]] = 1\n",
    "    else:\n",
    "        model_counts[row[2]] += 1\n",
    "    \n",
    "    # row[6] = defect type\n",
    "    if row[6] not in defect_counts:\n",
    "        defect_counts[row[6]] = 1\n",
    "    else:\n",
    "        defect_counts[row[6]] += 1"
   ]
  },
  {
   "cell_type": "code",
   "execution_count": null,
   "metadata": {},
   "outputs": [],
   "source": []
  },
  {
   "cell_type": "code",
   "execution_count": null,
   "metadata": {},
   "outputs": [],
   "source": [
    "# Other sheets\n",
    "n10_df = pd.read_excel(xls_file, sheet_name=\"N10\")\n",
    "b30Pro_df = pd.read_excel(xls_file, sheet_name=\"B30 Pro\")"
   ]
  }
 ],
 "metadata": {
  "kernelspec": {
   "display_name": "venv",
   "language": "python",
   "name": "python3"
  },
  "language_info": {
   "codemirror_mode": {
    "name": "ipython",
    "version": 3
   },
   "file_extension": ".py",
   "mimetype": "text/x-python",
   "name": "python",
   "nbconvert_exporter": "python",
   "pygments_lexer": "ipython3",
   "version": "3.13.1"
  }
 },
 "nbformat": 4,
 "nbformat_minor": 2
}
