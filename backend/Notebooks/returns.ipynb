{
 "cells": [
  {
   "cell_type": "code",
   "execution_count": 1,
   "metadata": {},
   "outputs": [],
   "source": [
    "# Goals for this notebook\n",
    "# - create version of data with churn column\n",
    "# - create relational matrix heatmap to find out which other factors are correlated with churn\n",
    "# - on frontend graph these out\n",
    "# - analyze 'verification' and 'defect' tab & responsible party columns\n",
    "# - graph out and count the reasons and types of returns"
   ]
  },
  {
   "cell_type": "code",
   "execution_count": 2,
   "metadata": {},
   "outputs": [],
   "source": [
    "import pandas as pd\n",
    "import numpy as np\n",
    "import matplotlib.pyplot as plt"
   ]
  },
  {
   "cell_type": "code",
   "execution_count": 4,
   "metadata": {},
   "outputs": [
    {
     "name": "stdout",
     "output_type": "stream",
     "text": [
      "Sheet Names: ['Data', 'Legend', 'N10', 'B30 Pro', 'Data Before Feb 13']\n"
     ]
    }
   ],
   "source": [
    "# load the excel sheet into a Dataframe\n",
    "xls_file = pd.ExcelFile(\"./UW_Churn_Pred_Data.xls\")\n",
    "print(f\"Sheet Names: {xls_file.sheet_names}\")"
   ]
  },
  {
   "cell_type": "code",
   "execution_count": 6,
   "metadata": {},
   "outputs": [],
   "source": [
    "# Create a dataframe of each sheet\n",
    "data_df = pd.read_excel(xls_file, sheet_name=\"Data\")\n",
    "beforeFeb_df = pd.read_excel(xls_file, sheet_name=\"Data Before Feb 13\")"
   ]
  },
  {
   "cell_type": "code",
   "execution_count": null,
   "metadata": {},
   "outputs": [
    {
     "name": "stdout",
     "output_type": "stream",
     "text": [
      "     Device number Product/Model #     Month Office Date Office Time In  \\\n",
      "0        410006072             N10  December  2024-12-19       15:30:00   \n",
      "28       410006874             N10  February  2025-02-06       15:45:00   \n",
      "41       410007237             N10  December  2024-12-02       14:40:00   \n",
      "42       410007252             N10   January  2025-01-06       07:50:00   \n",
      "103      410009357             N10  December  2024-12-13       07:40:00   \n",
      "\n",
      "         Source    Type Warranty Defect / Damage type  Responsible Party  \\\n",
      "0    B2C Amazon  Return      Yes            No defect  Customer: Remorse   \n",
      "28   B2C Amazon  Return      Yes            No defect  Customer: Remorse   \n",
      "41   B2C Amazon  Return      Yes            No defect  Customer: Remorse   \n",
      "42   B2C Amazon  Return      Yes            No defect  Customer: Remorse   \n",
      "103  B2C Amazon  Return      Yes            No defect  Customer: Remorse   \n",
      "\n",
      "    Final Status  Churn                                           sim_info  \\\n",
      "0       Refurb B    1.0  [{\"slot_index\":0,\"carrier_name\":\"Emergency cal...   \n",
      "28      Refurb A    1.0                                         uninserted   \n",
      "41      Refurb B    1.0                                         uninserted   \n",
      "42      Refurb A    1.0  [{\"slot_index\":0,\"carrier_name\":\"T-Mobile\",\"mc...   \n",
      "103     Refurb B    1.0                                         uninserted   \n",
      "\n",
      "     promotion_email  register_email        interval_date  \\\n",
      "0                1.0             1.0  2024-11-20 09:49:27   \n",
      "28               1.0             1.0  2024-12-19 06:24:01   \n",
      "41               0.0             0.0  2024-11-08 03:20:21   \n",
      "42               0.0             0.0  2024-12-03 02:41:34   \n",
      "103              0.0             0.0  2024-11-24 16:39:43   \n",
      "\n",
      "          last_boot_date          active_date  \n",
      "0    2024-11-07 00:00:45  2024-11-07 00:00:45  \n",
      "28   2024-12-19 06:24:01  2024-12-19 06:24:00  \n",
      "41   2024-11-05 00:32:14  2024-11-05 00:32:13  \n",
      "42   2024-12-03 02:41:34  2024-12-03 02:41:33  \n",
      "103  2024-11-24 23:37:09  2024-11-22 16:23:25  \n"
     ]
    }
   ],
   "source": [
    "# In beforeFeb_df, look at 'Type' column, if 'return' then look ta 'Defect / Damage Type' column and get the reason\n",
    "# - also look at 'Product/Model #' column and get counts of each one that was a return\n",
    "# In data_df, can do the same steps, but its named 'Model'\n",
    "\n",
    "# Step 1: filter data frame to only have rows where the 'Type' column is 'return'\n",
    "#print(beforeFeb_df.head())\n",
    "beforeFeb_returns_df = beforeFeb_df[beforeFeb_df['Type'] == 'Return']\n",
    "data_returns_df = data_df[data_df['Type'] == 'Return']\n"
   ]
  },
  {
   "cell_type": "code",
   "execution_count": null,
   "metadata": {},
   "outputs": [],
   "source": []
  },
  {
   "cell_type": "code",
   "execution_count": null,
   "metadata": {},
   "outputs": [],
   "source": [
    "# Other sheets\n",
    "n10_df = pd.read_excel(xls_file, sheet_name=\"N10\")\n",
    "b30Pro_df = pd.read_excel(xls_file, sheet_name=\"B30 Pro\")"
   ]
  }
 ],
 "metadata": {
  "kernelspec": {
   "display_name": "venv",
   "language": "python",
   "name": "python3"
  },
  "language_info": {
   "codemirror_mode": {
    "name": "ipython",
    "version": 3
   },
   "file_extension": ".py",
   "mimetype": "text/x-python",
   "name": "python",
   "nbconvert_exporter": "python",
   "pygments_lexer": "ipython3",
   "version": "3.13.1"
  }
 },
 "nbformat": 4,
 "nbformat_minor": 2
}
