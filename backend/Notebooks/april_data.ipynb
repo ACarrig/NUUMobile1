{
 "cells": [
  {
   "cell_type": "code",
   "execution_count": 1,
   "id": "ad5486ca",
   "metadata": {},
   "outputs": [],
   "source": [
    "\n",
    "import pandas as pd\n",
    "import numpy as np\n",
    "from datetime import datetime\n",
    "import json"
   ]
  },
  {
   "cell_type": "code",
   "execution_count": 2,
   "id": "46e67d65",
   "metadata": {},
   "outputs": [
    {
     "name": "stdout",
     "output_type": "stream",
     "text": [
      "   activate      imei1                                           sim_info  \\\n",
      "0  20240812   20316612  [{\"slot_index\":0,\"carrier_name\":\"USIM\",\"mcc\":\"...   \n",
      "1  20240816  410002477                                         uninserted   \n",
      "2  20240816   20316612  [{\"slot_index\":0,\"carrier_name\":\"中国移动\",\"mcc\":\"...   \n",
      "3  20240817   20316612  [{\"slot_index\":1,\"carrier_name\":\"中国移动\",\"mcc\":\"...   \n",
      "4  20240819  410000851                                         uninserted   \n",
      "\n",
      "  promotion_email  register_email        interval_date       last_boot_date  \\\n",
      "0             NaN            True  2024-08-12 12:05:04  2024-08-13 05:42:26   \n",
      "1             NaN            True  2024-08-23 06:30:49  2024-08-23 06:30:49   \n",
      "2             NaN            True  2024-08-16 09:37:24  2024-08-16 09:37:24   \n",
      "3             NaN            True  2024-08-17 03:02:55  2024-08-17 03:02:55   \n",
      "4             NaN            True  2024-08-19 10:00:34  2024-08-19 10:00:34   \n",
      "\n",
      "           active_date          update_date  privacy_marketing  ...  \\\n",
      "0  2024-08-12 12:05:03  2024-08-12 12:05:03               True  ...   \n",
      "1  2024-08-16 08:08:07  2024-08-16 08:08:07               True  ...   \n",
      "2  2024-08-16 09:37:24  2024-08-16 09:37:24               True  ...   \n",
      "3  2024-08-17 03:02:55  2024-08-17 03:02:55               True  ...   \n",
      "4  2024-08-19 10:00:34  2024-08-19 10:00:34               True  ...   \n",
      "\n",
      "   battery_info bluetooth_pair_infos screen_usage_info wallpaper_ids  \\\n",
      "0           NaN                  NaN               NaN           NaN   \n",
      "1           NaN                  NaN               NaN           NaN   \n",
      "2           NaN                  NaN               NaN           NaN   \n",
      "3           NaN                  NaN               NaN           NaN   \n",
      "4           NaN                  NaN               NaN           NaN   \n",
      "\n",
      "  interval_count reboot_count  network_type  usage_update_date  \\\n",
      "0            NaN          NaN           NaN                NaN   \n",
      "1            NaN          NaN           NaN                NaN   \n",
      "2            NaN          NaN           NaN                NaN   \n",
      "3            NaN          NaN           NaN                NaN   \n",
      "4            NaN          NaN           NaN                NaN   \n",
      "\n",
      "  privacy_enchanced_device privacy_help_improve  \n",
      "0                      NaN                  NaN  \n",
      "1                      NaN                  NaN  \n",
      "2                      NaN                  NaN  \n",
      "3                      NaN                  NaN  \n",
      "4                      NaN                  NaN  \n",
      "\n",
      "[5 rows x 22 columns]\n"
     ]
    }
   ],
   "source": [
    "file = './../../Data_before_Apr_9.xls'\n",
    "xls = pd.ExcelFile(file)\n",
    "df = pd.read_excel(xls, sheet_name=\"S6603L\")\n",
    "print(df.head())"
   ]
  },
  {
   "cell_type": "code",
   "execution_count": 3,
   "id": "56a29463",
   "metadata": {},
   "outputs": [
    {
     "name": "stdout",
     "output_type": "stream",
     "text": [
      "Index(['activate', 'imei1', 'sim_info', 'promotion_email', 'register_email',\n",
      "       'interval_date', 'last_boot_date', 'active_date', 'update_date',\n",
      "       'privacy_marketing', 'via_boot_wizard', 'app_usage_infos',\n",
      "       'battery_info', 'bluetooth_pair_infos', 'screen_usage_info',\n",
      "       'wallpaper_ids', 'interval_count', 'reboot_count', 'network_type',\n",
      "       'usage_update_date', 'privacy_enchanced_device',\n",
      "       'privacy_help_improve'],\n",
      "      dtype='object')\n"
     ]
    }
   ],
   "source": [
    "columns = df.columns\n",
    "print(columns)"
   ]
  },
  {
   "cell_type": "code",
   "execution_count": 16,
   "id": "8630c9da",
   "metadata": {},
   "outputs": [
    {
     "name": "stdout",
     "output_type": "stream",
     "text": [
      "Number of duplicate rows: 0\n"
     ]
    }
   ],
   "source": [
    "# Check for duplicates\n",
    "duplicates = df.duplicated().sum()\n",
    "print(f\"Number of duplicate rows: {duplicates}\")"
   ]
  },
  {
   "cell_type": "code",
   "execution_count": null,
   "id": "5e8b96f0",
   "metadata": {},
   "outputs": [
    {
     "name": "stdout",
     "output_type": "stream",
     "text": [
      "Number of duplicate devices: 107\n"
     ]
    }
   ],
   "source": [
    "# Check for duplicate imei1\n",
    "duplicate_devices = df['imei1'].duplicated().sum()\n",
    "print(f\"Number of duplicate imei1: {duplicate_devices}\")"
   ]
  },
  {
   "cell_type": "code",
   "execution_count": 17,
   "id": "00341ea1",
   "metadata": {},
   "outputs": [
    {
     "name": "stdout",
     "output_type": "stream",
     "text": [
      "      activate      imei1                                           sim_info  \\\n",
      "0     20240812   20316612  [{\"slot_index\":0,\"carrier_name\":\"USIM\",\"mcc\":\"...   \n",
      "2     20240816   20316612  [{\"slot_index\":0,\"carrier_name\":\"中国移动\",\"mcc\":\"...   \n",
      "3     20240817   20316612  [{\"slot_index\":1,\"carrier_name\":\"中国移动\",\"mcc\":\"...   \n",
      "5     20240819   20316612                                         uninserted   \n",
      "8     20240821   20316612  [{\"slot_index\":0,\"carrier_name\":\"中国移动\",\"mcc\":\"...   \n",
      "...        ...        ...                                                ...   \n",
      "50    20240918  410001412  [{\"slot_index\":0,\"carrier_name\":\"China Mobile\"...   \n",
      "63    20240926  410002170                                         uninserted   \n",
      "2152  20241216  410002170  [{\"slot_index\":0,\"carrier_name\":\"TIGO\",\"mcc\":\"...   \n",
      "26    20240904  410003996                                         uninserted   \n",
      "5197  20250212  410003996  [{\"slot_index\":0,\"carrier_name\":\"Emergency cal...   \n",
      "\n",
      "           promotion_email  register_email        interval_date  \\\n",
      "0                      NaN            True  2024-08-12 12:05:04   \n",
      "2                      NaN            True  2024-08-16 09:37:24   \n",
      "3                      NaN            True  2024-08-17 03:02:55   \n",
      "5                      NaN            True  2024-08-19 10:23:10   \n",
      "8                      NaN            True  2024-08-21 05:58:28   \n",
      "...                    ...             ...                  ...   \n",
      "50    fih.foxcom@gmail.com            True  2024-09-18 09:20:54   \n",
      "63                     NaN           False  2025-03-10 00:56:27   \n",
      "2152                   NaN            True  2025-04-09 04:53:08   \n",
      "26                     NaN            True  2024-09-04 09:35:12   \n",
      "5197                   NaN            True  2025-02-22 00:31:03   \n",
      "\n",
      "           last_boot_date          active_date          update_date  \\\n",
      "0     2024-08-13 05:42:26  2024-08-12 12:05:03  2024-08-12 12:05:03   \n",
      "2     2024-08-16 09:37:24  2024-08-16 09:37:24  2024-08-16 09:37:24   \n",
      "3     2024-08-17 03:02:55  2024-08-17 03:02:55  2024-08-17 03:02:55   \n",
      "5     2024-08-20 03:11:49  2024-08-19 10:23:09  2024-08-19 10:23:09   \n",
      "8     2024-08-21 05:58:28  2024-08-21 05:58:28  2024-08-21 05:58:28   \n",
      "...                   ...                  ...                  ...   \n",
      "50    2024-09-18 09:20:54  2024-09-18 09:20:53  2024-09-18 09:20:53   \n",
      "63    2025-02-25 20:18:55  2024-09-26 14:29:17  2025-01-02 18:27:08   \n",
      "2152  2025-04-03 02:54:51  2024-12-16 04:29:02  2024-12-16 04:29:02   \n",
      "26    2024-09-05 02:28:54  2024-09-04 09:35:11  2024-09-04 09:35:11   \n",
      "5197  2025-02-28 14:11:18  2025-02-12 02:29:49  2025-02-12 02:29:49   \n",
      "\n",
      "      privacy_marketing  ...  battery_info bluetooth_pair_infos  \\\n",
      "0                  True  ...           NaN                  NaN   \n",
      "2                  True  ...           NaN                  NaN   \n",
      "3                  True  ...           NaN                  NaN   \n",
      "5                  True  ...           NaN                  NaN   \n",
      "8                  True  ...           NaN                  NaN   \n",
      "...                 ...  ...           ...                  ...   \n",
      "50                 True  ...           NaN                  NaN   \n",
      "63                 True  ...           NaN                  NaN   \n",
      "2152               True  ...           NaN                  NaN   \n",
      "26                 True  ...           NaN                  NaN   \n",
      "5197               True  ...           NaN                  NaN   \n",
      "\n",
      "     screen_usage_info wallpaper_ids interval_count reboot_count  \\\n",
      "0                  NaN           NaN            NaN          NaN   \n",
      "2                  NaN           NaN            NaN          NaN   \n",
      "3                  NaN           NaN            NaN          NaN   \n",
      "5                  NaN           NaN            NaN          NaN   \n",
      "8                  NaN           NaN            NaN          NaN   \n",
      "...                ...           ...            ...          ...   \n",
      "50                 NaN           NaN            NaN          NaN   \n",
      "63                 NaN           NaN            NaN          NaN   \n",
      "2152               NaN           NaN            NaN          NaN   \n",
      "26                 NaN           NaN            NaN          NaN   \n",
      "5197               NaN           NaN            NaN          NaN   \n",
      "\n",
      "      network_type  usage_update_date privacy_enchanced_device  \\\n",
      "0              NaN                NaN                      NaN   \n",
      "2              NaN                NaN                      NaN   \n",
      "3              NaN                NaN                      NaN   \n",
      "5              NaN                NaN                      NaN   \n",
      "8              NaN                NaN                      NaN   \n",
      "...            ...                ...                      ...   \n",
      "50             NaN                NaN                      NaN   \n",
      "63             NaN                NaN                      NaN   \n",
      "2152           NaN                NaN                      NaN   \n",
      "26             NaN                NaN                      NaN   \n",
      "5197           NaN                NaN                      NaN   \n",
      "\n",
      "     privacy_help_improve  \n",
      "0                     NaN  \n",
      "2                     NaN  \n",
      "3                     NaN  \n",
      "5                     NaN  \n",
      "8                     NaN  \n",
      "...                   ...  \n",
      "50                    NaN  \n",
      "63                    NaN  \n",
      "2152                  NaN  \n",
      "26                    NaN  \n",
      "5197                  NaN  \n",
      "\n",
      "[113 rows x 22 columns]\n"
     ]
    }
   ],
   "source": [
    "# Get all rows where 'imei1' is duplicated\n",
    "duplicate_rows = df[df.duplicated(subset=['imei1'], keep=False)]\n",
    "\n",
    "# Sort by 'imei1' to group duplicates together\n",
    "duplicate_rows_sorted = duplicate_rows.sort_values('imei1')\n",
    "\n",
    "# Display duplicates (adjust display options if needed)\n",
    "print(duplicate_rows_sorted)"
   ]
  },
  {
   "cell_type": "markdown",
   "id": "9f3865d5",
   "metadata": {},
   "source": [
    "1. Same Device, Multiple Events:\n",
    "- Example: IMEI 20316612 appears 5 times (Aug 12-21, 2024) with different:\n",
    "    - sim_info (switching between carriers/USIM/uninserted)\n",
    "    - active_date/last_boot_date (showing ongoing usage)\n",
    "- Other IMEIs (e.g., 410002170) span months (Sep 2024 - Feb 2025).\n",
    "\n",
    "2. Patterns:\n",
    "- Some devices switch SIM cards (sim_info changes).\n",
    "- interval_date and update_date track when data was recorded.\n",
    "- Most duplicates have register_email=True (active registrations).\n",
    "\n",
    "3. Potential Issues:\n",
    "- Rows with sim_info=\"uninserted\" may represent SIM removal.\n",
    "- Inconsistent network_type/battery_info (NaN values)."
   ]
  },
  {
   "cell_type": "code",
   "execution_count": 4,
   "id": "a553b1c0",
   "metadata": {},
   "outputs": [],
   "source": [
    "# Data Sheet activations: {'January': 0, 'February': 0, 'March': 0, \n",
    "#                          'April': 0, 'May': 0, 'June': 0, 'July': 195, \n",
    "#                          'August': 2227, 'September': 769, 'October': 520, \n",
    "#                          'November': 391, 'December': 0}\n",
    "activate_dates = df['activate'].tolist()\n",
    "emails = df['promotion_email'].tolist()\n",
    "bluetooth_devices = df['bluetooth_pair_infos'].tolist()\n",
    "screen_usage = df['screen_usage_info'].tolist() # can get # of times used/day or avg time used each time and each day"
   ]
  },
  {
   "cell_type": "code",
   "execution_count": 5,
   "id": "9106e297",
   "metadata": {},
   "outputs": [
    {
     "name": "stdout",
     "output_type": "stream",
     "text": [
      "[1325, 949, 984, 227, 0, 0, 0, 20, 56, 156, 973, 2281]\n"
     ]
    }
   ],
   "source": [
    "# get a list of the months devices were activated\n",
    "activation_months = []\n",
    "for activation in activate_dates:\n",
    "    month = activation[4:6] # 4th and 5th indexes are month (yyyymmdd)\n",
    "    activation_months.append(month)\n",
    "\n",
    "# get a count for each month\n",
    "month_activate_count = [0, 0, 0, 0, 0, 0, 0, 0, 0, 0, 0, 0]\n",
    "for m in activation_months:\n",
    "    m = int(m)\n",
    "    month_activate_count[m - 1] += 1\n",
    "print(month_activate_count)"
   ]
  },
  {
   "cell_type": "code",
   "execution_count": 6,
   "id": "c9f6e1ec",
   "metadata": {},
   "outputs": [
    {
     "name": "stdout",
     "output_type": "stream",
     "text": [
      "6971\n",
      "1341\n"
     ]
    }
   ],
   "source": [
    "# Get the number of customers who registered an email (and total # of customers)\n",
    "email_counts = []\n",
    "num_emails = 0\n",
    "for email in emails:\n",
    "    email = str(email).lower()\n",
    "    if email == 'nan':\n",
    "        email_counts.append('None')\n",
    "    else:\n",
    "        email_counts.append(email)\n",
    "        num_emails += 1\n",
    "\n",
    "print(len(email_counts))\n",
    "print(num_emails)"
   ]
  },
  {
   "cell_type": "code",
   "execution_count": 7,
   "id": "401714c6",
   "metadata": {},
   "outputs": [
    {
     "name": "stdout",
     "output_type": "stream",
     "text": [
      "Avg number of pairs per customer:  3.3076923076923075\n",
      "Total Customers:  6971\n",
      "Customers who paired devices:  39\n",
      "Rate of customers pairing a device:  0.5594606225792569 %\n"
     ]
    }
   ],
   "source": [
    "devices_by_user = []\n",
    "num_blank = 0\n",
    "total_num = 0\n",
    "i = 0\n",
    "for device in bluetooth_devices:\n",
    "    if type(device) == str and device != 'Empty'.strip():\n",
    "        dev_json = json.loads(device)\n",
    "        devices_by_user.append(len(dev_json))\n",
    "        total_num += 1\n",
    "    else:\n",
    "        num_blank += 1\n",
    "        total_num += 1\n",
    "\n",
    "# Get the avg number of paired devices, for customers who have paired a device\n",
    "total_devices = 0\n",
    "for num_devices in devices_by_user:\n",
    "    total_devices += num_devices\n",
    "avg_num_pairs = total_devices / len(devices_by_user)\n",
    "print(\"Avg number of pairs per customer: \", avg_num_pairs)\n",
    "\n",
    "# Get rate of customers who paired a device\n",
    "print(\"Total Customers: \", total_num)\n",
    "print(\"Customers who paired devices: \", len(devices_by_user))\n",
    "print(\"Rate of customers pairing a device: \", (len(devices_by_user) / total_num) * 100, \"%\")\n"
   ]
  },
  {
   "cell_type": "code",
   "execution_count": 8,
   "id": "7ebbce5a",
   "metadata": {},
   "outputs": [
    {
     "name": "stdout",
     "output_type": "stream",
     "text": [
      "Users we have screen usage info from:  104\n",
      "Rate of getting screen info:  1.491894993544685 %\n",
      "Average 'count' per instance of users:  55.01041666666666\n",
      "Average 'time' per instance (in hours):  4.6262591257122505\n"
     ]
    }
   ],
   "source": [
    "# Format: [{\"date\":1744002000000,\"count\":72,\"time\":0},{\"date\":1743915600000,\"count\":41,\"time\":39929}]\n",
    "blank_screen_info = 0\n",
    "screen_info_count = 0\n",
    "avg_count_per_user = []\n",
    "avg_time_per_user = []\n",
    "\n",
    "for usage in screen_usage:\n",
    "    if type(usage) == str and usage.strip() != '':\n",
    "        screen_info_count += 1\n",
    "        usage_json = json.loads(usage)\n",
    "        \n",
    "        # Get the average count and time for each instance where a user used their device\n",
    "        instances = 0\n",
    "        avg_count = 0\n",
    "        avg_time = 0\n",
    "        for instance in usage_json:\n",
    "            instances += 1\n",
    "            avg_count += instance['count']\n",
    "            avg_time += instance['time']\n",
    "        avg_count = avg_count / instances\n",
    "        avg_time = avg_time / instances\n",
    "\n",
    "        # add a user's average usage data to our list, so we can average across ALL users\n",
    "        avg_count_per_user.append(avg_count)\n",
    "        avg_time_per_user.append(avg_time)\n",
    "    else:\n",
    "        blank_screen_info += 1\n",
    "\n",
    "# # of users we got info from\n",
    "print(\"Users we have screen usage info from: \", screen_info_count)\n",
    "\n",
    "# Rate of getting screen info\n",
    "print(\"Rate of getting screen info: \", (screen_info_count / (screen_info_count + blank_screen_info)) * 100, \"%\")\n",
    "\n",
    "# The average count across all users (for one instance)\n",
    "count_total = 0\n",
    "for val in avg_count_per_user:\n",
    "    count_total += val\n",
    "\n",
    "print(\"Average 'count' per instance of users: \", count_total / len(avg_count_per_user))\n",
    "\n",
    "# The average time across all users (for one instance)\n",
    "count_total = 0\n",
    "for val in avg_time_per_user:\n",
    "    count_total += val\n",
    "\n",
    "print(\"Average 'time' per instance (in hours): \", (count_total / len(avg_time_per_user)) / 3600)"
   ]
  },
  {
   "cell_type": "code",
   "execution_count": 9,
   "id": "ee7773de",
   "metadata": {},
   "outputs": [],
   "source": [
    "import matplotlib.pyplot as plt"
   ]
  },
  {
   "cell_type": "code",
   "execution_count": 10,
   "id": "23397f38",
   "metadata": {},
   "outputs": [
    {
     "data": {
      "image/png": "[encoded data removed]",
      "text/plain": [
       "<Figure size 640x480 with 1 Axes>"
      ]
     },
     "metadata": {},
     "output_type": "display_data"
    }
   ],
   "source": [
    "# Graph monthly activations\n",
    "months = list(range(1, 13))\n",
    "p2024 = month_activate_count[6:13]\n",
    "p2025 = month_activate_count[0:6]\n",
    "plt.bar(months, month_activate_count)\n",
    "plt.xlabel('Month')\n",
    "plt.ylabel('Activations')\n",
    "plt.title('# of Activations by Month')\n",
    "plt.show()\n"
   ]
  },
  {
   "cell_type": "code",
   "execution_count": 11,
   "id": "9f5e8f87",
   "metadata": {},
   "outputs": [
    {
     "data": {
      "image/png": "[encoded data removed]",
      "text/plain": [
       "<Figure size 640x480 with 1 Axes>"
      ]
     },
     "metadata": {},
     "output_type": "display_data"
    }
   ],
   "source": [
    "num_emails and len(email_counts)\n",
    "plt.bar(['Total customers', 'Emails Registered'], [len(email_counts), num_emails])\n",
    "plt.ylabel('Count')\n",
    "plt.show()"
   ]
  },
  {
   "cell_type": "code",
   "execution_count": 12,
   "id": "1d499a8b",
   "metadata": {},
   "outputs": [
    {
     "name": "stdout",
     "output_type": "stream",
     "text": [
      "Avg number of bluetooth paired items per customer:  3.31\n"
     ]
    }
   ],
   "source": [
    "print(\"Avg number of bluetooth paired items per customer: \", round(avg_num_pairs, 2))"
   ]
  },
  {
   "cell_type": "code",
   "execution_count": 13,
   "id": "46f740c9",
   "metadata": {},
   "outputs": [
    {
     "name": "stdout",
     "output_type": "stream",
     "text": [
      "Total Customers:  6971\n",
      "Customers who paired devices:  39\n",
      "Rate of customers pairing a device:  0.5594606225792569 %\n",
      "Users we have screen usage info from:  104\n",
      "Rate of getting screen info:  1.491894993544685 %\n",
      "Average 'count' per instance of users:  55.01041666666666\n",
      "Average 'time' per instance (in hours):  4.6262591257122505\n"
     ]
    }
   ],
   "source": [
    "# Get rate of customers who paired a device\n",
    "print(\"Total Customers: \", total_num)\n",
    "print(\"Customers who paired devices: \", len(devices_by_user))\n",
    "print(\"Rate of customers pairing a device: \", (len(devices_by_user) / total_num) * 100, \"%\")\n",
    "\n",
    "# # of users we got info from\n",
    "print(\"Users we have screen usage info from: \", screen_info_count)\n",
    "\n",
    "# Rate of getting screen info\n",
    "print(\"Rate of getting screen info: \", (screen_info_count / (screen_info_count + blank_screen_info)) * 100, \"%\")\n",
    "\n",
    "# The average count across all users (for one instance)\n",
    "count_total = 0\n",
    "for val in avg_count_per_user:\n",
    "    count_total += val\n",
    "\n",
    "print(\"Average 'count' per instance of users: \", count_total / len(avg_count_per_user))\n",
    "\n",
    "# The average time across all users (for one instance)\n",
    "count_total = 0\n",
    "for val in avg_time_per_user:\n",
    "    count_total += val\n",
    "\n",
    "print(\"Average 'time' per instance (in hours): \", (count_total / len(avg_time_per_user)) / 3600)"
   ]
  }
 ],
 "metadata": {
  "kernelspec": {
   "display_name": "venv",
   "language": "python",
   "name": "python3"
  },
  "language_info": {
   "codemirror_mode": {
    "name": "ipython",
    "version": 3
   },
   "file_extension": ".py",
   "mimetype": "text/x-python",
   "name": "python",
   "nbconvert_exporter": "python",
   "pygments_lexer": "ipython3",
   "version": "3.10.11"
  }
 },
 "nbformat": 4,
 "nbformat_minor": 5
}
