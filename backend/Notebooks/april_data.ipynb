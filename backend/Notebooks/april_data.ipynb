{
 "cells": [
  {
   "cell_type": "code",
   "execution_count": 2,
   "id": "ad5486ca",
   "metadata": {},
   "outputs": [],
   "source": [
    "\n",
    "import pandas as pd\n",
    "import numpy as np\n",
    "from datetime import datetime"
   ]
  },
  {
   "cell_type": "code",
   "execution_count": 3,
   "id": "46e67d65",
   "metadata": {},
   "outputs": [
    {
     "name": "stdout",
     "output_type": "stream",
     "text": [
      "   activate      imei1                                           sim_info  \\\n",
      "0  20240812   20316612  [{\"slot_index\":0,\"carrier_name\":\"USIM\",\"mcc\":\"...   \n",
      "1  20240816  410002477                                         uninserted   \n",
      "2  20240816   20316612  [{\"slot_index\":0,\"carrier_name\":\"中国移动\",\"mcc\":\"...   \n",
      "3  20240817   20316612  [{\"slot_index\":1,\"carrier_name\":\"中国移动\",\"mcc\":\"...   \n",
      "4  20240819  410000851                                         uninserted   \n",
      "\n",
      "  promotion_email  register_email        interval_date       last_boot_date  \\\n",
      "0             NaN            True  2024-08-12 12:05:04  2024-08-13 05:42:26   \n",
      "1             NaN            True  2024-08-23 06:30:49  2024-08-23 06:30:49   \n",
      "2             NaN            True  2024-08-16 09:37:24  2024-08-16 09:37:24   \n",
      "3             NaN            True  2024-08-17 03:02:55  2024-08-17 03:02:55   \n",
      "4             NaN            True  2024-08-19 10:00:34  2024-08-19 10:00:34   \n",
      "\n",
      "           active_date          update_date  privacy_marketing  ...  \\\n",
      "0  2024-08-12 12:05:03  2024-08-12 12:05:03               True  ...   \n",
      "1  2024-08-16 08:08:07  2024-08-16 08:08:07               True  ...   \n",
      "2  2024-08-16 09:37:24  2024-08-16 09:37:24               True  ...   \n",
      "3  2024-08-17 03:02:55  2024-08-17 03:02:55               True  ...   \n",
      "4  2024-08-19 10:00:34  2024-08-19 10:00:34               True  ...   \n",
      "\n",
      "   battery_info bluetooth_pair_infos screen_usage_info wallpaper_ids  \\\n",
      "0           NaN                  NaN               NaN           NaN   \n",
      "1           NaN                  NaN               NaN           NaN   \n",
      "2           NaN                  NaN               NaN           NaN   \n",
      "3           NaN                  NaN               NaN           NaN   \n",
      "4           NaN                  NaN               NaN           NaN   \n",
      "\n",
      "  interval_count reboot_count  network_type  usage_update_date  \\\n",
      "0            NaN          NaN           NaN                NaN   \n",
      "1            NaN          NaN           NaN                NaN   \n",
      "2            NaN          NaN           NaN                NaN   \n",
      "3            NaN          NaN           NaN                NaN   \n",
      "4            NaN          NaN           NaN                NaN   \n",
      "\n",
      "  privacy_enchanced_device privacy_help_improve  \n",
      "0                      NaN                  NaN  \n",
      "1                      NaN                  NaN  \n",
      "2                      NaN                  NaN  \n",
      "3                      NaN                  NaN  \n",
      "4                      NaN                  NaN  \n",
      "\n",
      "[5 rows x 22 columns]\n"
     ]
    }
   ],
   "source": [
    "file = './../../Data_before_Apr_9.xls'\n",
    "xls = pd.ExcelFile(file)\n",
    "df = pd.read_excel(xls, sheet_name=\"S6603L\")\n",
    "print(df.head())"
   ]
  },
  {
   "cell_type": "code",
   "execution_count": 4,
   "id": "56a29463",
   "metadata": {},
   "outputs": [
    {
     "name": "stdout",
     "output_type": "stream",
     "text": [
      "Index(['activate', 'imei1', 'sim_info', 'promotion_email', 'register_email',\n",
      "       'interval_date', 'last_boot_date', 'active_date', 'update_date',\n",
      "       'privacy_marketing', 'via_boot_wizard', 'app_usage_infos',\n",
      "       'battery_info', 'bluetooth_pair_infos', 'screen_usage_info',\n",
      "       'wallpaper_ids', 'interval_count', 'reboot_count', 'network_type',\n",
      "       'usage_update_date', 'privacy_enchanced_device',\n",
      "       'privacy_help_improve'],\n",
      "      dtype='object')\n"
     ]
    }
   ],
   "source": [
    "columns = df.columns\n",
    "print(columns)"
   ]
  },
  {
   "cell_type": "code",
   "execution_count": 5,
   "id": "a553b1c0",
   "metadata": {},
   "outputs": [],
   "source": [
    "# Data Sheet activations: {'January': 0, 'February': 0, 'March': 0, \n",
    "#                          'April': 0, 'May': 0, 'June': 0, 'July': 195, \n",
    "#                          'August': 2227, 'September': 769, 'October': 520, \n",
    "#                          'November': 391, 'December': 0}\n",
    "activate_dates = df['activate'].tolist()\n",
    "emails = df['promotion_email'].tolist()\n",
    "bluetooth_devices = df['bluetooth_pair_infos'].tolist()\n",
    "screen_usage = df['screen_usage_info'].tolist() # can get # of times used/day or avg time used each time and each day"
   ]
  },
  {
   "cell_type": "code",
   "execution_count": 11,
   "id": "9106e297",
   "metadata": {},
   "outputs": [],
   "source": [
    "activation_months = []\n",
    "for activation in activate_dates:\n",
    "    month = activation[4:6] # 4th and 5th indexes are month (yyyymmdd)\n",
    "    activation_months.append(month)"
   ]
  },
  {
   "cell_type": "code",
   "execution_count": 19,
   "id": "c9f6e1ec",
   "metadata": {},
   "outputs": [
    {
     "name": "stdout",
     "output_type": "stream",
     "text": [
      "6971\n",
      "1341\n"
     ]
    }
   ],
   "source": [
    "email_counts = []\n",
    "num_emails = 0\n",
    "for email in emails:\n",
    "    email = str(email).lower()\n",
    "    if email == 'nan':\n",
    "        email_counts.append('None')\n",
    "    else:\n",
    "        email_counts.append(email)\n",
    "        num_emails += 1\n",
    "\n",
    "print(len(email_counts))\n",
    "print(num_emails)"
   ]
  },
  {
   "cell_type": "code",
   "execution_count": 36,
   "id": "401714c6",
   "metadata": {},
   "outputs": [
    {
     "name": "stdout",
     "output_type": "stream",
     "text": [
      "[{\"name\":\"null\",\"type\":0,\"address\":\"04:E7:F6:B9:EC:B1\"},{\"name\":\"null\",\"type\":0,\"address\":\"06:EA:C3:C4:2C:39\"},{\"name\":\"null\",\"type\":0,\"address\":\"33:F6:1D:24:74:7B\"},{\"name\":\"null\",\"type\":0,\"address\":\"1E:D6:18:A4:F1:83\"}]\n",
      "[{\"name\":\"Inspire 3\",\"type\":2,\"address\":\"F9:47:31:7D:15:B3\"}]\n",
      "[{\"name\":\"K118\",\"type\":3,\"address\":\"40:45:DA:74:BB:31\"}]\n",
      "[{\"name\":\"Inspire 3\",\"type\":2,\"address\":\"D8:FD:4E:F7:82:00\"},{\"name\":\"myChevrolet\",\"type\":1,\"address\":\"28:0F:EB:97:D7:A4\"},{\"name\":\"WH-CH710N\",\"type\":3,\"address\":\"74:45:CE:EE:BF:30\"},{\"name\":\"Hesh ANC\",\"type\":3,\"address\":\"88:08:94:A5:E4:1C\"},{\"name\":\"Yamaha YH-E700A\",\"type\":3,\"address\":\"F4:0E:11:76:CD:B7\"},{\"name\":\"Soundtrack\",\"type\":3,\"address\":\"F4:0E:11:74:07:67\"},{\"name\":\"AL Whisper\",\"type\":1,\"address\":\"F4:4E:FD:00:2C:2F\"}]\n",
      "[{\"name\":\"JBL Flip 4\",\"type\":3,\"address\":\"F8:DF:15:E5:5B:44\"},{\"name\":\"NUU Buds A\",\"type\":1,\"address\":\"41:42:5F:6B:17:EF\"},{\"name\":\"BSBTH253\",\"type\":1,\"address\":\"41:42:FF:C8:48:85\"},{\"name\":\"Soundmates ANC\",\"type\":1,\"address\":\"41:42:2A:5E:3B:B7\"},{\"name\":\"JLab JBuds Air\",\"type\":3,\"address\":\"00:00:C0:05:1C:A6\"},{\"name\":\"Wireless Controller\",\"type\":1,\"address\":\"84:00:03:55:57:58\"}]\n",
      "[{\"name\":\"T08\",\"type\":1,\"address\":\"7A:03:CC:14:F7:0F\"},{\"name\":\"AB Shutter3\",\"type\":2,\"address\":\"11:22:33:44:62:1C\"}]\n",
      "[{\"name\":\"EDDIE-PC\",\"type\":1,\"address\":\"00:1A:0E:97:F0:5B\"},{\"name\":\"MOCUTE-032_B53-375C\",\"type\":1,\"address\":\"01:60:32:00:37:5C\"}]\n",
      "[{\"name\":\"JLab GO Air Pop\",\"type\":1,\"address\":\"9F:DA:07:68:EA:02\"}]\n",
      "[{\"name\":\"Chevrolet MyLink\",\"type\":1,\"address\":\"74:95:EC:7D:B1:A0\"},{\"name\":\"John's S22 Ultra\",\"type\":3,\"address\":\"A4:75:B9:15:A6:C2\"},{\"name\":\"Galaxy Buds (7A7B)\",\"type\":3,\"address\":\"C0:DC:DA:59:7A:7B\"}]\n",
      "[{\"name\":\"Tesla Model 3 KMS\",\"type\":3,\"address\":\"4C:FC:AA:1C:A1:2A\"},{\"name\":\"null\",\"type\":0,\"address\":\"BE:27:42:00:07:4A\"},{\"name\":\"null\",\"type\":0,\"address\":\"C0:00:00:00:05:13\"},{\"name\":\"null\",\"type\":0,\"address\":\"58:51:BB:A0:00:1A\"}]\n",
      "[{\"name\":\"MD053\",\"type\":1,\"address\":\"E6:8D:ED:99:AA:CD\"},{\"name\":\"null\",\"type\":0,\"address\":\"51:F2:07:E3:3D:A7\"},{\"name\":\"KIA MOTORS\",\"type\":1,\"address\":\"A8:B9:B3:0E:A6:B5\"},{\"name\":\"null\",\"type\":0,\"address\":\"75:67:67:CC:70:A9\"},{\"name\":\"White noise speaker\",\"type\":1,\"address\":\"04:E0:08:7A:A0:9C\"},{\"name\":\"JLab GO Pop+\",\"type\":1,\"address\":\"E4:C4:8B:71:D2:43\"},{\"name\":\"KIA MOTORS\",\"type\":1,\"address\":\"A8:B9:B3:0F:21:75\"},{\"name\":\"null\",\"type\":0,\"address\":\"4D:AB:DC:FC:DA:AC\"}]\n",
      "[{\"name\":\"MAEB09\",\"type\":1,\"address\":\"FC:58:FA:85:FB:36\"}]\n",
      "[{\"name\":\"T49Pro\",\"type\":3,\"address\":\"C1:91:A8:35:E5:E6\"},{\"name\":\"TWS EARBUDS\",\"type\":1,\"address\":\"B7:A6:5A:7F:4C:E6\"},{\"name\":\"Luna Gamepad\",\"type\":2,\"address\":\"1C:93:C4:95:9A:50\"},{\"name\":\"Chevrolet MyLink\",\"type\":1,\"address\":\"AC:7A:4D:5B:B5:C3\"},{\"name\":\"Sylvania SP353\",\"type\":1,\"address\":\"FC:58:FA:88:29:8A\"},{\"name\":\"Scott’s AirPods Pro - Find My\",\"type\":3,\"address\":\"F0:04:E1:DF:CF:C5\"}]\n",
      "[{\"name\":\"TG-117\",\"type\":1,\"address\":\"41:42:3A:E2:B3:F5\"},{\"name\":\"Soundcore Rave Neo 2\",\"type\":1,\"address\":\"3C:39:E7:B5:3C:B0\"}]\n",
      "[{\"name\":\"null\",\"type\":0,\"address\":\"78:02:B7:02:69:FE\"},{\"name\":\"iHome iBT157\",\"type\":1,\"address\":\"08:EB:ED:06:85:0E\"},{\"name\":\"soundcore H30i\",\"type\":1,\"address\":\"F4:B6:2D:08:16:E7\"},{\"name\":\"P3+\",\"type\":1,\"address\":\"41:42:FF:90:87:9F\"}]\n",
      "[{\"name\":\"TWS\",\"type\":1,\"address\":\"41:42:13:6E:F1:AC\"}]\n",
      "[{\"name\":\"Beats Flex\",\"type\":3,\"address\":\"70:8C:F2:DB:45:A3\"},{\"name\":\"onn. Rugged Speaker L\",\"type\":1,\"address\":\"F4:4E:FD:07:A2:DF\"},{\"name\":\"Chevrolet MyLink\",\"type\":1,\"address\":\"9C:8D:7C:A7:D7:69\"},{\"name\":\"Baddie BOSE\",\"type\":3,\"address\":\"C8:7B:23:1E:ED:FA\"}]\n",
      "[{\"name\":\"Mini H2O\",\"type\":1,\"address\":\"34:4C:A6:C4:09:16\"},{\"name\":\"Altec Lansing Fury\",\"type\":1,\"address\":\"BB:EB:6B:7F:76:D7\"}]\n",
      "[{\"name\":\"YYK-Q63\",\"type\":1,\"address\":\"F3:43:BA:FF:4E:24\"},{\"name\":\"JBL TUNE510BT\",\"type\":3,\"address\":\"74:2A:8A:B8:93:E5\"},{\"name\":\"gamingchair\",\"type\":3,\"address\":\"EB:06:EF:70:30:53\"}]\n",
      "[{\"name\":\"AirPods Pro\",\"type\":3,\"address\":\"FF:A0:90:87:BE:A6\"},{\"name\":\"T25\",\"type\":1,\"address\":\"28:80:05:AC:A5:10\"}]\n",
      "[{\"name\":\"M19\",\"type\":1,\"address\":\"41:42:90:E6:C8:04\"},{\"name\":\"DESKTOP-LL6QJH6\",\"type\":3,\"address\":\"B4:6D:83:F1:C8:21\"}]\n",
      "[{\"name\":\"DualSense Wireless Controller\",\"type\":1,\"address\":\"90:B6:85:AB:26:C6\"},{\"name\":\"Xbox Wireless Controller\",\"type\":2,\"address\":\"F4:6A:D7:36:45:59\"},{\"name\":\"BT 3.0 Keyboard\",\"type\":1,\"address\":\"EC:23:45:77:EE:40\"},{\"name\":\"Block Rocker Max\",\"type\":3,\"address\":\"40:EF:4C:2E:AC:89\"},{\"name\":\"JBL LIVE PRO 2 TWS\",\"type\":1,\"address\":\"84:D3:52:08:82:1A\"}]\n",
      "[{\"name\":\"fatboys beats\",\"type\":3,\"address\":\"2C:7C:F2:0A:92:B3\"},{\"name\":\"iLX-W650\",\"type\":1,\"address\":\"18:6D:99:CC:50:CF\"},{\"name\":\"KENWOOD BT MM-6U2\",\"type\":1,\"address\":\"00:10:60:D2:8E:59\"},{\"name\":\"Dual BT\",\"type\":1,\"address\":\"95:41:63:0D:58:75\"},{\"name\":\"onn. Party SPK MD\",\"type\":1,\"address\":\"F4:4E:FD:D8:43:69\"},{\"name\":\"ONB18SB001\",\"type\":1,\"address\":\"83:38:1F:A6:1A:0C\"},{\"name\":\"VM-216\",\"type\":1,\"address\":\"F8:DF:E9:70:57:62\"}]\n",
      "[{\"name\":\"Nandulal’s AirPods\",\"type\":3,\"address\":\"00:C5:85:DD:B2:FF\"}]\n",
      "[{\"name\":\"TG-117\",\"type\":1,\"address\":\"B9:32:CE:0C:3E:90\"},{\"name\":\"BTH581\",\"type\":1,\"address\":\"41:42:FF:35:A5:D1\"},{\"name\":\"T10\",\"type\":1,\"address\":\"91:BB:58:38:23:03\"},{\"name\":\"TG-116\",\"type\":1,\"address\":\"30:21:19:54:E3:8C\"},{\"name\":\"BH442\",\"type\":1,\"address\":\"8D:5C:81:74:C3:A1\"}]\n",
      "[{\"name\":\"onn. On-Ear\",\"type\":1,\"address\":\"90:A0:BE:01:DE:8A\"}]\n",
      "[{\"name\":\"Soundcore Life Q20+\",\"type\":3,\"address\":\"C0:EA:C3:1C:C1:CA\"},{\"name\":\"onn. Rugged Speaker M\",\"type\":1,\"address\":\"F4:4E:FD:23:C8:12\"}]\n",
      "[{\"name\":\"My Car\",\"type\":1,\"address\":\"00:09:93:59:79:1B\"},{\"name\":\"NUU Buds A\",\"type\":1,\"address\":\"41:42:DD:F1:00:9A\"}]\n",
      "[{\"name\":\"null\",\"type\":0,\"address\":\"F0:03:BA:24:64:E1\"},{\"name\":\"SRS-XE200\",\"type\":3,\"address\":\"78:5E:A2:FA:F3:05\"},{\"name\":\"W&O 2\",\"type\":1,\"address\":\"04:17:22:30:E0:1B\"},{\"name\":\"null\",\"type\":0,\"address\":\"D6:B4:08:7B:5C:71\"}]\n",
      "[{\"name\":\"TOYOTA RAV4\",\"type\":1,\"address\":\"74:95:EC:6D:67:DA\"},{\"name\":\"Bobtot  ET23\",\"type\":1,\"address\":\"6E:47:2E:6C:EE:7E\"},{\"name\":\"Kia Motors\",\"type\":1,\"address\":\"28:CF:08:E9:35:C0\"}]\n",
      "[{\"name\":\"C6\",\"type\":1,\"address\":\"AE:BE:4E:6F:EB:57\"},{\"name\":\"ZG65H\",\"type\":3,\"address\":\"00:D5:98:13:CB:3A\"},{\"name\":\"Realtek Bluetooth\",\"type\":3,\"address\":\"22:22:6D:60:0A:00\"},{\"name\":\"Realtek Bluetooth\",\"type\":3,\"address\":\"90:E4:68:2C:37:D2\"},{\"name\":\"NVIDIA SHIELD Remote\",\"type\":2,\"address\":\"48:B0:2D:19:B4:4C\"},{\"name\":\"Ron's G-Pad F2\",\"type\":3,\"address\":\"04:1B:6D:27:3B:EE\"},{\"name\":\"GL-A9\",\"type\":1,\"address\":\"41:42:B4:67:AF:DA\"}]\n",
      "[{\"name\":\"null\",\"type\":0,\"address\":\"5C:3A:45:62:66:F6\"},{\"name\":\"AirPods\",\"type\":3,\"address\":\"0C:E4:41:CE:05:12\"},{\"name\":\"null\",\"type\":0,\"address\":\"94:E2:3C:4D:C1:04\"},{\"name\":\"null\",\"type\":0,\"address\":\"1C:CE:51:FA:0B:8E\"},{\"name\":\"null\",\"type\":0,\"address\":\"38:D5:7A:21:66:78\"},{\"name\":\"null\",\"type\":0,\"address\":\"28:D0:43:4A:A7:22\"}]\n",
      "[{\"name\":\"Mom’s buds\",\"type\":3,\"address\":\"84:AD:8D:3A:4C:AB\"},{\"name\":\"Brittny’s Powerbeats Pro\",\"type\":3,\"address\":\"20:78:CD:84:76:FB\"}]\n",
      "[{\"name\":\"SP258\",\"type\":1,\"address\":\"94:23:6E:25:87:05\"},{\"name\":\"DMX5020S\",\"type\":1,\"address\":\"1C:50:1E:B6:45:65\"},{\"name\":\"AVH-290BT\",\"type\":1,\"address\":\"94:B2:CC:3C:B4:BF\"},{\"name\":\"G7\",\"type\":1,\"address\":\"C9:F0:F0:1E:78:DE\"},{\"name\":\"PTWS12\",\"type\":1,\"address\":\"64:5E:A8:67:58:B7\"},{\"name\":\"BRAVEN BRV-X\",\"type\":1,\"address\":\"10:B7:F6:06:49:5B\"},{\"name\":\"LE-Bose Color II SoundLink\",\"type\":3,\"address\":\"2C:41:A1:F3:51:48\"},{\"name\":\"SK8106\",\"type\":1,\"address\":\"D8:2F:E6:27:F4:C7\"},{\"name\":\"AVH-200BT\",\"type\":1,\"address\":\"74:5E:1C:55:CF:BD\"},{\"name\":\"Blackwater Speaker\",\"type\":1,\"address\":\"9C:E2:72:51:C7:97\"}]\n",
      "[{\"name\":\"soundcore P30i\",\"type\":1,\"address\":\"F4:B6:2D:6B:31:6C\"},{\"name\":\"null\",\"type\":0,\"address\":\"C7:D0:60:8E:A7:00\"}]\n",
      "[{\"name\":\"BT-02\",\"type\":1,\"address\":\"F3:F4:99:FA:50:A5\"},{\"name\":\"WUF-W18\",\"type\":1,\"address\":\"C3:92:C6:71:31:C4\"},{\"name\":\"HIFI15DR-A1502K\",\"type\":1,\"address\":\"41:42:94:E2:57:BF\"}]\n",
      "[{\"name\":\"STR-DH190\",\"type\":1,\"address\":\"14:5A:FC:E0:1C:F0\"}]\n",
      "[{\"name\":\"S71\",\"type\":3,\"address\":\"00:00:46:00:00:01\"}]\n",
      "[{\"name\":\"JBL TUNE510BT\",\"type\":3,\"address\":\"C8:2B:6B:49:B1:D8\"}]\n"
     ]
    }
   ],
   "source": [
    "devices_by_user = []\n",
    "num_blank = 0\n",
    "i = 0\n",
    "for device in bluetooth_devices:\n",
    "    if type(device) == str and device != 'Empty'.strip():\n",
    "        print(device)"
   ]
  }
 ],
 "metadata": {
  "kernelspec": {
   "display_name": "venv",
   "language": "python",
   "name": "python3"
  },
  "language_info": {
   "codemirror_mode": {
    "name": "ipython",
    "version": 3
   },
   "file_extension": ".py",
   "mimetype": "text/x-python",
   "name": "python",
   "nbconvert_exporter": "python",
   "pygments_lexer": "ipython3",
   "version": "3.13.1"
  }
 },
 "nbformat": 4,
 "nbformat_minor": 5
}
