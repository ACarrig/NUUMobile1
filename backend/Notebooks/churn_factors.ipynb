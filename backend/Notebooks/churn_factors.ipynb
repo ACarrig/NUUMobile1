{
 "cells": [
  {
   "cell_type": "code",
   "execution_count": null,
   "metadata": {},
   "outputs": [],
   "source": [
    "# Goals for this notebook\n",
    "# - create relational matrix heatmap to find out which other factors are correlated with churn\n",
    "# - go through full data sheet and figure out not churned devices, do similar heatmap for non churn params\n",
    "# Each sheet should be able to have a matrix like this, and a bar graph showing highest churn-correlated parameters"
   ]
  },
  {
   "cell_type": "code",
   "execution_count": 1,
   "metadata": {},
   "outputs": [],
   "source": [
    "import pandas as pd\n",
    "import numpy as np\n",
    "import matplotlib.pyplot as plt"
   ]
  },
  {
   "cell_type": "code",
   "execution_count": null,
   "metadata": {},
   "outputs": [
    {
     "name": "stdout",
     "output_type": "stream",
     "text": [
      "Sheet Names: ['Data', 'Legend', 'N10', 'B30 Pro', 'Data Before Feb 13']\n"
     ]
    }
   ],
   "source": [
    "# load the excel sheet into a Dataframe\n",
    "xls_file = pd.ExcelFile(\"./UW_Churn_Pred_Data.xls\")\n",
    "print(f\"Sheet Names: {xls_file.sheet_names}\")\n",
    "\n",
    "# Create a dataframe of each sheet\n",
    "data_df = pd.read_excel(xls_file, sheet_name=\"Data\")\n",
    "beforeFeb_df = pd.read_excel(xls_file, sheet_name=\"Data Before Feb 13\")\n",
    "n10_df = pd.read_excel(xls_file, sheet_name=\"N10\")\n",
    "b30_df = pd.read_excel(xls_file, sheet_name=\"B30 Pro\")"
   ]
  },
  {
   "cell_type": "code",
   "execution_count": null,
   "metadata": {},
   "outputs": [],
   "source": [
    "# Filter down to just churned rows\n",
    "beforeFeb_df = beforeFeb_df[beforeFeb_df['Type'] == 'Return']\n",
    "data_df = data_df[data_df['Type'] == 'Return']\n",
    "\n",
    "# some data sheets we already know which columns are churn\n",
    "n10_df = n10_df[n10_df['Chrn Flag'] == '1']\n",
    "b30_df = b30_df[b30_df['Churn Flag'] == '1']"
   ]
  },
  {
   "cell_type": "code",
   "execution_count": null,
   "metadata": {},
   "outputs": [],
   "source": [
    "# Columns that could be used in correlation matrix:\n",
    "# 'Sale Channel', 'Model', 'Warranty', 'Customer Service Requested', \n",
    "# 'Number of Sim', 'Sim Country', 'Screen Usage (s)', 'Bluetooth (# of pairs)', 'Wallpaper',\n",
    "# 'Registered Email'\n",
    "# Columns need to be numeric"
   ]
  },
  {
   "cell_type": "code",
   "execution_count": null,
   "metadata": {},
   "outputs": [],
   "source": [
    "# Sale Channel - could create an int for each different type of sale channel\n",
    "# Model - ^^\n",
    "# Warranty - 1 = yes, and 0 = no\n",
    "# Sim Country - could parse for the number, and do 0 for uninserted\n",
    "# Wifi/Internet Connection - 1 for true, 0 for false\n",
    "# Registered Email - 1 true, 0 false, -1 unknown/blank"
   ]
  },
  {
   "cell_type": "code",
   "execution_count": null,
   "metadata": {},
   "outputs": [],
   "source": []
  },
  {
   "cell_type": "code",
   "execution_count": null,
   "metadata": {},
   "outputs": [],
   "source": [
    "# Get DFs for non-churn too?\n",
    "n10_df = n10_df[n10_df['Chrn Flag'] != '1']\n",
    "b30_df = b30_df[b30_df['Churn Flag'] == '0']\n",
    "\n",
    "# Figure out how to do this for data w/o churn flag"
   ]
  }
 ],
 "metadata": {
  "kernelspec": {
   "display_name": "venv",
   "language": "python",
   "name": "python3"
  },
  "language_info": {
   "codemirror_mode": {
    "name": "ipython",
    "version": 3
   },
   "file_extension": ".py",
   "mimetype": "text/x-python",
   "name": "python",
   "nbconvert_exporter": "python",
   "pygments_lexer": "ipython3",
   "version": "3.13.1"
  }
 },
 "nbformat": 4,
 "nbformat_minor": 2
}
