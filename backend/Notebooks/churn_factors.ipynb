{
 "cells": [
  {
   "cell_type": "code",
   "execution_count": null,
   "metadata": {},
   "outputs": [],
   "source": [
    "# Goals for this notebook\n",
    "# - create relational matrix heatmap to find out which other factors are correlated with churn\n",
    "# - go through full data sheet and figure out not churned devices, do similar heatmap for non churn params\n",
    "# Each sheet should be able to have a matrix like this, and a bar graph showing highest churn-correlated parameters"
   ]
  },
  {
   "cell_type": "code",
   "execution_count": 1,
   "metadata": {},
   "outputs": [],
   "source": [
    "import pandas as pd\n",
    "import numpy as np\n",
    "import matplotlib.pyplot as plt"
   ]
  },
  {
   "cell_type": "code",
   "execution_count": null,
   "metadata": {},
   "outputs": [
    {
     "ename": "NameError",
     "evalue": "name 'file' is not defined",
     "output_type": "error",
     "traceback": [
      "\u001b[31m---------------------------------------------------------------------------\u001b[39m",
      "\u001b[31mNameError\u001b[39m                                 Traceback (most recent call last)",
      "\u001b[36mCell\u001b[39m\u001b[36m \u001b[39m\u001b[32mIn[2]\u001b[39m\u001b[32m, line 1\u001b[39m\n\u001b[32m----> \u001b[39m\u001b[32m1\u001b[39m xls = pd.ExcelFile(\u001b[43mfile\u001b[49m)\n\u001b[32m      2\u001b[39m df = pd.read_excel(xls, sheet_name=\u001b[33m'\u001b[39m\u001b[33mData\u001b[39m\u001b[33m'\u001b[39m)\n\u001b[32m      3\u001b[39m returns_df = df[df[\u001b[33m'\u001b[39m\u001b[33mType\u001b[39m\u001b[33m'\u001b[39m] == \u001b[33m'\u001b[39m\u001b[33mReturn\u001b[39m\u001b[33m'\u001b[39m] \u001b[38;5;66;03m# narrow df to only include returns for speed\u001b[39;00m\n",
      "\u001b[31mNameError\u001b[39m: name 'file' is not defined"
     ]
    }
   ],
   "source": [
    "xls = pd.ExcelFile('./UW_Churn_Pred_Data.xls')\n",
    "df = pd.read_excel(xls, sheet_name='Data')\n",
    "returns_df = df[df['Type'] == 'Return'] # narrow df to only include returns for speed\n",
    "\n",
    "nlist = list(returns_df.columns)\n",
    "i = 1 # want to start at one because tuples will add 0 col to excel sheet\n",
    "for col in nlist:\n",
    "    if col == \"Defect / Damage type\":\n",
    "        break\n",
    "    i += 1\n",
    "\n",
    "# i is the tuple # of the defect/damage type column\n",
    "\n",
    "defect_counts = {}\n",
    "\n",
    "# add each defect to our dictionary and have a count for it\n",
    "for row in returns_df.itertuples():\n",
    "    if row[i] not in defect_counts:\n",
    "        defect_counts[row[i]] = 1\n",
    "    else:\n",
    "        defect_counts[row[i]] += 1\n",
    "\n",
    "# get defect counts in decreasing order by defect\n",
    "sorted_defect_counts = {k: v for k, v in sorted(defect_counts.items(), key=lambda item: item[1], reverse=True)}"
   ]
  }
 ],
 "metadata": {
  "kernelspec": {
   "display_name": "venv",
   "language": "python",
   "name": "python3"
  },
  "language_info": {
   "codemirror_mode": {
    "name": "ipython",
    "version": 3
   },
   "file_extension": ".py",
   "mimetype": "text/x-python",
   "name": "python",
   "nbconvert_exporter": "python",
   "pygments_lexer": "ipython3",
   "version": "3.13.1"
  }
 },
 "nbformat": 4,
 "nbformat_minor": 2
}
