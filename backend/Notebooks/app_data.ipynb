{
 "cells": [
  {
   "cell_type": "code",
   "execution_count": 1,
   "id": "3e8c2542-5ea6-47b6-803b-710162f98c70",
   "metadata": {},
   "outputs": [],
   "source": [
    "import pandas as pd\n",
    "import numpy as np\n",
    "import matplotlib.pyplot as plt"
   ]
  },
  {
   "cell_type": "code",
   "execution_count": 2,
   "id": "4c5ce2dd-25d3-45f7-ae31-7f997edab971",
   "metadata": {},
   "outputs": [
    {
     "name": "stdout",
     "output_type": "stream",
     "text": [
      "Sheet Names: ['Data', 'Legend', 'N10', 'B30 Pro', 'Data Before Feb 13']\n"
     ]
    }
   ],
   "source": [
    "# load the excel sheet into a Dataframe\n",
    "xls_file = pd.ExcelFile(\"../UW_Churn_Pred_Data.xls\")\n",
    "print(f\"Sheet Names: {xls_file.sheet_names}\")\n",
    "#print(type(xls_file.sheet_names))\n",
    "\n",
    "# Create a dataframe of the 'Data' sheet\n",
    "df = pd.read_excel(xls_file, sheet_name=\"Data\")"
   ]
  },
  {
   "cell_type": "code",
   "execution_count": 3,
   "id": "c389dbb0-1b43-450f-9791-4d0bed259030",
   "metadata": {},
   "outputs": [
    {
     "name": "stdout",
     "output_type": "stream",
     "text": [
      "Index(['Sale Channel', 'Model', 'Warranty', 'Feedback', 'Verification',\n",
      "       'Defect / Damage type', 'Responsible Party', 'Type',\n",
      "       'Spare Parts Used if returned', 'Final Status',\n",
      "       'Customer Service Requested', 'Number of Sim', 'Sim Country', 'Slot 1',\n",
      "       'Slot 2', 'Sim Card', 'Screen Usage (s)', 'App Uage (s)',\n",
      "       'Bluetooth (# of pairs)', 'Wifi/Internet Connection', 'Wallpaper',\n",
      "       'Registered Email', 'last boot - activate', 'last boot - interval',\n",
      "       'interval date', 'last bootl date', 'activate date', 'Age Range'],\n",
      "      dtype='object')\n"
     ]
    }
   ],
   "source": [
    "columns = df.columns\n",
    "print(columns)"
   ]
  },
  {
   "cell_type": "code",
   "execution_count": 4,
   "id": "eb37d62e-01d1-4b6b-9bc1-23eb846ead87",
   "metadata": {},
   "outputs": [
    {
     "name": "stdout",
     "output_type": "stream",
     "text": [
      "   Whatsapp  Tiktok   Test\n",
      "0      50.0   500.0    NaN\n",
      "1       NaN     NaN  100.0\n",
      "[{'Whatsapp': 50, 'Tiktok': 500}, {'Test': 100}, {'Tiktok': 100, 'Youtube': 200, 'Instagram': 300}]\n",
      "   Whatsapp  Tiktok  Test  Youtube  Instagram\n",
      "0        50     500     0        0          0\n",
      "1         0       0   100        0          0\n",
      "2         0     100     0      200        300\n"
     ]
    }
   ],
   "source": [
    "# test if you can have a list of dictionaries become a df\n",
    "test_one = [\n",
    "    {'Whatsapp': 50, 'Tiktok': 500}, {'Test': 100}\n",
    "]\n",
    "one_df = pd.DataFrame(test_one)\n",
    "print(one_df.head())\n",
    "\n",
    "# test if you can combine lists and make a df\n",
    "app_names = ['Tiktok', 'Youtube', 'Instagram']\n",
    "app_times = [100, 200, 300]\n",
    "\n",
    "test_two = dict(zip(app_names, app_times))\n",
    "test_one.append(test_two)\n",
    "\n",
    "print(test_one)\n",
    "df_two = pd.DataFrame(test_one)\n",
    "df_two = df_two.fillna(0).astype(int)\n",
    "print(df_two.head())"
   ]
  },
  {
   "cell_type": "code",
   "execution_count": 5,
   "id": "1d92442d-c8cb-408a-9137-d953cdf5d263",
   "metadata": {},
   "outputs": [
    {
     "name": "stdout",
     "output_type": "stream",
     "text": [
      "initial format: Wechat 3021s, Whatsapp 2463s, Youtube 576s, Twitter 2062s, Email 1519s\n",
      "final format: {'Wechat': 3021, 'Whatsapp': 2463, 'Youtube': 576, 'Twitter': 2062, 'Email': 1519}\n"
     ]
    }
   ],
   "source": [
    "# We can see the 5 most used apps on each device\n",
    "# but currently it's a list of strings (not seperated by app)\n",
    "customer_apps_used = df['App Uage (s)'].tolist()\n",
    "print(\"initial format: \" + customer_apps_used[0])\n",
    "\n",
    "# Reformat customer_apps_used so that each row is a dictionary containing the app and seconds used\n",
    "i = 0\n",
    "for app_time_list in customer_apps_used:\n",
    "    # current format: ['Whats app 500s, Tiktok 30000s, Youtube 124s, App4 100s, App5 12s', '', '']\n",
    "    # may be a 0 in this column if no data for the device\n",
    "    if app_time_list == 0:\n",
    "        customer_apps_used[i] = {'none': 0}\n",
    "        i += 1\n",
    "        continue\n",
    "\n",
    "    # first split by comma to seperate out each app\n",
    "    apps_list = app_time_list.split(\", \")\n",
    "\n",
    "    # format of apps_list: [['Whats app 500s', 'Tiktok 30000s', Youtube 124s'], [], []]\n",
    "    # split each app into a name and use time, and add to correct list\n",
    "    app_names = []\n",
    "    app_times = []\n",
    "    for app in apps_list:\n",
    "        app_info = app.split(\" \")\n",
    "        app_names.append(app_info[0])\n",
    "        app_times.append(int(app_info[1][:-1]))\n",
    "\n",
    "    # zip together the names and times lists & create a dictionary\n",
    "    apps = dict(zip(app_names, app_times))\n",
    "    \n",
    "    # each customer row now holds a dictionary of their 5 most used apps and the times\n",
    "    customer_apps_used[i] = apps\n",
    "    i += 1\n",
    "\n",
    "print(\"final format: \" + str(customer_apps_used[0]))"
   ]
  },
  {
   "cell_type": "code",
   "execution_count": 6,
   "id": "b53d8f98-39e4-412c-8b24-294a280f9fdf",
   "metadata": {},
   "outputs": [
    {
     "name": "stdout",
     "output_type": "stream",
     "text": [
      "   Wechat  Whatsapp  Youtube  Twitter  Email  Instagram  Snapchat  Tiktok  \\\n",
      "0    3021      2463      576     2062   1519          0         0       0   \n",
      "1    5847       830        0        0      0       4992      5419     366   \n",
      "2       0     15464        0        0   4574          0     18050    4913   \n",
      "3    8959         0     4572     4177      0          0         0    7711   \n",
      "4       0      9833     6296        0   8597          0         0    5613   \n",
      "\n",
      "   Facebook  none  \n",
      "0         0     0  \n",
      "1         0     0  \n",
      "2       903     0  \n",
      "3     15992     0  \n",
      "4      4446     0  \n"
     ]
    }
   ],
   "source": [
    "# Create a dataframe for the apps and their usage, default val = 0\n",
    "app_df = pd.DataFrame(customer_apps_used)\n",
    "app_df = app_df.fillna(0).astype(int)\n",
    "print(app_df.head())"
   ]
  },
  {
   "cell_type": "code",
   "execution_count": 7,
   "id": "af6dcacf-91ee-4bce-8066-47ad6ca9767e",
   "metadata": {},
   "outputs": [
    {
     "data": {
      "image/png": "[encoded data removed]",
      "text/plain": [
       "<Figure size 432x288 with 1 Axes>"
      ]
     },
     "metadata": {
      "needs_background": "light"
     },
     "output_type": "display_data"
    },
    {
     "data": {
      "image/png": "[encoded data removed]",
      "text/plain": [
       "<Figure size 432x288 with 1 Axes>"
      ]
     },
     "metadata": {
      "needs_background": "light"
     },
     "output_type": "display_data"
    }
   ],
   "source": [
    "# Figure out total usage time by app, most used apps, \n",
    "#    most common most used app (this may help remove outliers who used one app for a very long time)\n",
    "\n",
    "# Total usage by app\n",
    "apps = list(app_df.columns[:-1]) # removing 'none'\n",
    "app_sums = []\n",
    "app_sums_hrs = []\n",
    "for app in apps:\n",
    "    app_sums.append(app_df[f'{app}'].sum())\n",
    "    app_sums_hrs.append(app_df[f'{app}'].sum() / 3600)\n",
    "\n",
    "app_sums.sort()\n",
    "app_sums_hrs.sort()\n",
    "app_usage_dict = dict(zip(apps, app_sums_hrs))\n",
    "#print(app_usage_dict)\n",
    "#for app, time in zip(apps, app_sums_hrs):\n",
    "    #print(f'{app}: {time:,.1f} hours used across all devices')\n",
    "\n",
    "\n",
    "# Most common most used app\n",
    "max_values = app_df.max(axis=1)\n",
    "max_values_colname = app_df.idxmax(axis=1)\n",
    "\n",
    "common_fav_apps_dict = {count: 0 for count in apps}\n",
    "for app_name in max_values_colname:\n",
    "    common_fav_apps_dict[app_name] += 1\n",
    "#print(common_fav_apps_dict)\n",
    "\n",
    "# Create some visualizations\n",
    "plt.bar(range(len(app_usage_dict)), list(app_usage_dict.values()), align='center')\n",
    "plt.xticks(range(len(app_usage_dict)), list(app_usage_dict.keys()), rotation=45)\n",
    "plt.ylim(min(app_usage_dict.values()) - 100, max(app_usage_dict.values()) + 100)\n",
    "plt.title(\"Total App Usage by Hours\")\n",
    "plt.ylabel(\"Hours\")\n",
    "plt.show()\n",
    "\n",
    "plt.bar(range(len(common_fav_apps_dict)), list(common_fav_apps_dict.values()), align='center')\n",
    "plt.xticks(range(len(common_fav_apps_dict)), list(common_fav_apps_dict.keys()), rotation=45)\n",
    "plt.ylabel(\"# of times as most used app\")\n",
    "plt.title(\"Most used apps on each device\")\n",
    "plt.show()"
   ]
  }
 ],
 "metadata": {
  "kernelspec": {
   "display_name": "nuuproj",
   "language": "python",
   "name": "nuuproj"
  },
  "language_info": {
   "codemirror_mode": {
    "name": "ipython",
    "version": 3
   },
   "file_extension": ".py",
   "mimetype": "text/x-python",
   "name": "python",
   "nbconvert_exporter": "python",
   "pygments_lexer": "ipython3",
   "version": "3.10.2"
  }
 },
 "nbformat": 4,
 "nbformat_minor": 5
}
