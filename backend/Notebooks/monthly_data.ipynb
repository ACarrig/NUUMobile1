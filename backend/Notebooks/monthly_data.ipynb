{
 "cells": [
  {
   "cell_type": "code",
   "execution_count": 2,
   "metadata": {},
   "outputs": [],
   "source": [
    "import pandas as pd\n",
    "import numpy as np\n",
    "import matplotlib.pyplot as plt\n",
    "from datetime import datetime"
   ]
  },
  {
   "cell_type": "code",
   "execution_count": 3,
   "metadata": {},
   "outputs": [
    {
     "name": "stdout",
     "output_type": "stream",
     "text": [
      "Index(['Sale Channel', 'Model', 'Warranty', 'Feedback', 'Verification',\n",
      "       'Defect / Damage type', 'Responsible Party', 'Type',\n",
      "       'Spare Parts Used if returned', 'Final Status',\n",
      "       'Customer Service Requested', 'Number of Sim', 'Sim Country', 'Slot 1',\n",
      "       'Slot 2', 'Sim Card', 'Screen Usage (s)', 'App Usage (s)',\n",
      "       'Bluetooth (# of pairs)', 'Wifi/Internet Connection', 'Wallpaper',\n",
      "       'Registered Email', 'last boot - activate', 'last boot - interval',\n",
      "       'interval date', 'last bootl date', 'activate date', 'Age Range'],\n",
      "      dtype='object')\n"
     ]
    }
   ],
   "source": [
    "# load the excel sheet into a Dataframe\n",
    "xls_file = pd.ExcelFile(\"./UW_Churn_Pred_Data.xls\")\n",
    "\n",
    "# Create a dataframe of the 'Data' sheet\n",
    "df = pd.read_excel(xls_file, sheet_name=\"Data\")\n",
    "\n",
    "columns = df.columns\n",
    "print(columns)"
   ]
  },
  {
   "cell_type": "code",
   "execution_count": 4,
   "metadata": {},
   "outputs": [],
   "source": [
    "activate_dates = df['activate date'].tolist()\n",
    "interval_dates = df['interval date'].tolist()"
   ]
  },
  {
   "cell_type": "code",
   "execution_count": 5,
   "metadata": {},
   "outputs": [],
   "source": [
    "# Get interval_dates - activate_dates for time retaining device\n",
    "#    can then see how long (on avg.) a device is kept\n",
    "intv_actv = []\n",
    "for activation, interval in zip(activate_dates, interval_dates):\n",
    "    if activation != 0 and interval != 0:\n",
    "        try:\n",
    "            activate_dt = datetime.strptime(activation, \"%Y-%m-%d %H:%M:%S\")\n",
    "            interval_dt = datetime.strptime(interval, \"%Y-%m-%d %H:%M:%S\")\n",
    "\n",
    "            intv_actv.append((interval_dt - activate_dt).seconds)\n",
    "        except:\n",
    "            intv_actv.append(0)\n",
    "    else:\n",
    "        intv_actv.append(0) "
   ]
  },
  {
   "cell_type": "code",
   "execution_count": 6,
   "metadata": {},
   "outputs": [],
   "source": [
    "# Get activation month\n",
    "activation_month = []\n",
    "month_conv = {\n",
    "    12: 'December',\n",
    "    11: 'November',\n",
    "    10: 'October',\n",
    "    9: 'September',\n",
    "    8: 'August',\n",
    "    7: 'July',\n",
    "    6: 'June',\n",
    "    5: 'May',\n",
    "    4: 'April',\n",
    "    3: 'March',\n",
    "    2: 'February',\n",
    "    1: 'January'\n",
    "}\n",
    "\n",
    "for activation in activate_dates:\n",
    "    if activation != 0:\n",
    "        try:\n",
    "            activate_dt = datetime.strptime(activation, \"%Y-%m-%d %H:%M:%S\")\n",
    "            activation_month.append(month_conv[activate_dt.month])\n",
    "        except:\n",
    "            activation_month.append('None')\n",
    "    else:\n",
    "        activation_month.append('None')"
   ]
  },
  {
   "cell_type": "code",
   "execution_count": 7,
   "metadata": {},
   "outputs": [
    {
     "name": "stdout",
     "output_type": "stream",
     "text": [
      "    Sale Channel      Model Warranty       Feedback           Verification  \\\n",
      "0  B2C 3rd party        B20      Yes  Amazon Return  no damages, no issues   \n",
      "1  B2C 3rd party   A23 Plus      Yes  Amazon Return  no damages, no issues   \n",
      "2  B2C 3rd party        A15      Yes            NaN                    NaN   \n",
      "3  B2C 3rd party   A23 Plus      Yes  Amazon Return  no damages, no issues   \n",
      "4  B2C 3rd party        B20      Yes  Amazon Return  no damages, no issues   \n",
      "5  B2C 3rd party   A23 Plus      Yes  Amazon Return  no damages, no issues   \n",
      "6  B2C 3rd party   A23 Plus      Yes  Amazon Return  no damages, no issues   \n",
      "7  B2C 3rd party  Earbuds A      Yes  Amazon Return       opened packaging   \n",
      "8  B2C 3rd party   A23 Plus      Yes  Amazon Return  no damages, no issues   \n",
      "9  B2C 3rd party   A23 Plus      Yes  Amazon Return  no damages, no issues   \n",
      "\n",
      "  Defect / Damage type  Responsible Party    Type  \\\n",
      "0            No defect  Customer: Remorse  Return   \n",
      "1            No defect  Customer: Remorse  Return   \n",
      "2                  NaN                NaN     NaN   \n",
      "3            No defect  Customer: Remorse  Return   \n",
      "4            No defect  Customer: Remorse  Return   \n",
      "5            No defect  Customer: Remorse  Return   \n",
      "6            No defect  Customer: Remorse  Return   \n",
      "7            No defect  Customer: Remorse  Return   \n",
      "8            No defect  Customer: Remorse  Return   \n",
      "9            No defect  Customer: Remorse  Return   \n",
      "\n",
      "  Spare Parts Used if returned Final Status  ...  Wallpaper  Registered Email  \\\n",
      "0                           No     Refurb A  ...          1               1.0   \n",
      "1                           No     Refurb B  ...          1               1.0   \n",
      "2                          NaN          NaN  ...          2               NaN   \n",
      "3                           No     Refurb B  ...          1               0.0   \n",
      "4                           No     Refurb B  ...          0               1.0   \n",
      "5                           No     Refurb B  ...          1               1.0   \n",
      "6                           No     Refurb B  ...          0               1.0   \n",
      "7                           No     Refurb B  ...          2               1.0   \n",
      "8                           No     Refurb B  ...          3               1.0   \n",
      "9                           No     Refurb B  ...          0               0.0   \n",
      "\n",
      "  last boot - activate last boot - interval        interval date  \\\n",
      "0             0.000000             0.000000  2024-11-18 00:52:52   \n",
      "1             0.000023             0.000000  2024-11-18 00:35:59   \n",
      "2             0.000000             0.000000  2024-11-17 23:42:12   \n",
      "3             0.151493             0.151481  2024-11-17 23:28:58   \n",
      "4             0.000000             0.000000  2024-11-17 21:50:16   \n",
      "5             0.053692             0.053681  2024-11-17 21:43:23   \n",
      "6             0.000012            -0.085289  2024-11-17 23:11:02   \n",
      "7             0.020498             0.020498  2024-11-17 19:01:12   \n",
      "8             0.000000             0.000000  2024-11-17 18:03:39   \n",
      "9             0.038322             0.038310  2024-11-17 16:18:39   \n",
      "\n",
      "       last bootl date        activate date Age Range  activation_month  \\\n",
      "0  2024-11-18 00:52:52  2024-11-18 00:52:52     30-40          November   \n",
      "1  2024-11-18 00:35:59  2024-11-18 00:35:57     30-40          November   \n",
      "2  2024-11-17 23:42:12  2024-11-17 23:42:12     20-30          November   \n",
      "3  2024-11-18 03:07:06  2024-11-17 23:28:57     20-30          November   \n",
      "4  2024-11-17 21:50:16  2024-11-17 21:50:16     40-50          November   \n",
      "5  2024-11-17 23:00:41  2024-11-17 21:43:22     30-40          November   \n",
      "6  2024-11-17 21:08:13  2024-11-17 21:08:12     20-30          November   \n",
      "7  2024-11-17 19:30:43  2024-11-17 19:01:12     60-70          November   \n",
      "8  2024-11-17 18:03:39  2024-11-17 18:03:39     70-80          November   \n",
      "9  2024-11-17 17:13:49  2024-11-17 16:18:38     70-80          November   \n",
      "\n",
      "   interval - activate (s)  \n",
      "0                        0  \n",
      "1                        2  \n",
      "2                        0  \n",
      "3                        1  \n",
      "4                        0  \n",
      "5                        1  \n",
      "6                     7370  \n",
      "7                        0  \n",
      "8                        0  \n",
      "9                        1  \n",
      "\n",
      "[10 rows x 30 columns]\n"
     ]
    }
   ],
   "source": [
    "# Add intv_active and activation_month to dataframe\n",
    "df['activation_month'] = activation_month\n",
    "df['interval - activate (s)'] = intv_actv\n",
    "print(df.head(10))"
   ]
  },
  {
   "cell_type": "code",
   "execution_count": 8,
   "metadata": {},
   "outputs": [
    {
     "name": "stdout",
     "output_type": "stream",
     "text": [
      "8.555611187757084 hours a device is kept, on average across all data\n"
     ]
    }
   ],
   "source": [
    "# avg time in seconds device is retained\n",
    "total = 0\n",
    "for time in intv_actv:\n",
    "    total += time\n",
    "print(str((total / len(intv_actv)) / 3600) + \" hours a device is kept, on average across all data\")"
   ]
  },
  {
   "cell_type": "code",
   "execution_count": 9,
   "metadata": {},
   "outputs": [],
   "source": [
    "# Go over activate list, and depending on month, seperate out data\n",
    "#    can see total sales by month\n",
    "#    can see sales of each model by month\n",
    "#    can see how long a device is kept on avg, by month activated"
   ]
  },
  {
   "cell_type": "code",
   "execution_count": null,
   "metadata": {},
   "outputs": [
    {
     "name": "stdout",
     "output_type": "stream",
     "text": [
      "{'January': 0, 'February': 0, 'March': 0, 'April': 0, 'May': 0, 'June': 0, 'July': 195, 'August': 2227, 'September': 769, 'October': 520, 'November': 391, 'December': 0}\n"
     ]
    }
   ],
   "source": [
    "# Total sales by month\n",
    "month_dict = {\n",
    "    'January': 0,\n",
    "    'February': 0,\n",
    "    'March': 0,\n",
    "    'April': 0,\n",
    "    'May': 0,\n",
    "    'June': 0,\n",
    "    'July': 0,\n",
    "    'August': 0,\n",
    "    'September': 0,\n",
    "    'October': 0,\n",
    "    'November': 0,\n",
    "    'December': 0\n",
    "}\n",
    "\n",
    "return_dict_one = {}\n",
    "\n",
    "for month in list(month_dict.keys()):\n",
    "    temp_df = df[df['activation_month'] == month]\n",
    "    month_dict[month] = len(temp_df)\n",
    "    return_dict_one['month']\n",
    "\n",
    "print(month_dict)"
   ]
  },
  {
   "cell_type": "code",
   "execution_count": 11,
   "metadata": {},
   "outputs": [
    {
     "name": "stdout",
     "output_type": "stream",
     "text": [
      "{'January': {}, 'February': {}, 'March': {}, 'April': {}, 'May': {}, 'June': {}, 'July': {'A23 Plus': 71, 'B20': 28, 'A25': 16, 'B15': 14, 'A15': 14, 'F4L': 13, 'X6P': 9, 'Earbuds A': 9, 'B30 Pro': 6, 'B10': 4, 'A11L': 2, 'Tab 8 Plus': 2, ' A23 Plus': 2, 'Earbuds B': 2, 'A25 ': 1, 'A23Plus': 1, 'B30 ': 1}, 'August': {'A23 Plus': 841, 'B20': 319, 'A15': 273, 'A25': 200, 'B15': 130, 'B30 Pro': 104, 'B10': 91, 'F4L': 77, 'X6P': 37, 'Earbuds A': 32, 'A11L': 30, 'Earbuds B': 21, 'Tab 8 Plus': 14, 'A23Plus': 13, 'B20 TPU': 9, ' A23 Plus': 7, 'A10L': 5, 'A25 ': 5, 'Tab10': 4, 'Buds B': 4, 'Buds A': 2, 'B30': 2, 'EArbuds A': 2, 'B30 ': 1, 'F4L ': 1, 'A9L': 1, 'A23 ': 1, 'N10': 1}, 'September': {'A23 Plus': 274, 'A15': 127, 'B20': 108, 'A25': 69, 'B10': 38, 'B15': 36, 'F4L': 26, 'B30 Pro': 23, 'X6P': 15, 'Earbuds A': 13, 'A11L': 7, 'Earbuds B': 6, 'Tab 8 Plus': 5, 'A23Plus': 4, 'N10': 3, 'A23 PLus': 3, 'B20 TPU': 3, ' A23 Plus': 2, 'Buds B': 2, 'A10L': 1, 'A9L': 1, 'G5': 1, 'A25 ': 1}, 'October': {'A23 Plus': 189, 'B20': 79, 'A15': 67, 'A25': 57, 'B15': 24, 'B30 Pro': 21, 'F4L': 19, 'B10': 18, 'X6P': 8, 'A11L': 7, 'Earbuds A': 6, 'B20 TPU': 4, 'Earbuds B': 4, 'A23Plus': 4, 'Buds B': 2, 'Buds A': 2, 'A10L': 2, 'A23 PLus': 1, ' A23 Plus': 1, 'A23 ': 1, 'G5': 1, 'Tab 8 Plus': 1, 'F4L ': 1}, 'November': {'A23 Plus': 168, 'A15': 55, 'B20': 51, 'A25': 39, 'B15': 17, 'B10': 15, 'B30 Pro': 13, 'F4L': 7, 'Earbuds B': 6, 'Earbuds A': 6, 'X6P': 4, 'A11L': 3, 'B20 TPU': 2, 'A23Plus': 2, 'A23 PLus': 1, 'A9L': 1, 'Tab 8 Plus': 1}, 'December': {}}\n"
     ]
    }
   ],
   "source": [
    "# Sales of models by month\n",
    "all_models = list(df['Model'].unique())\n",
    "\n",
    "# add models to model_sales_dict\n",
    "#for model in all_models:\n",
    "    #model_sales_dict[model] = 0\n",
    "\n",
    "month_dict = {\n",
    "    'January': {},\n",
    "    'February': {},\n",
    "    'March': {},\n",
    "    'April': {},\n",
    "    'May': {},\n",
    "    'June': {},\n",
    "    'July': {},\n",
    "    'August': {},\n",
    "    'September': {},\n",
    "    'October': {},\n",
    "    'November': {},\n",
    "    'December': {}\n",
    "}\n",
    "\n",
    "# create temp_df containing rows with certain activation month of device\n",
    "for month in list(month_dict.keys()):\n",
    "    temp_df = df[df['activation_month'] == month]\n",
    "    month_dict[month] = temp_df['Model'].value_counts().to_dict()\n",
    "\n",
    "print(month_dict)"
   ]
  },
  {
   "cell_type": "code",
   "execution_count": 12,
   "metadata": {},
   "outputs": [
    {
     "name": "stdout",
     "output_type": "stream",
     "text": [
      "{'January': nan, 'February': nan, 'March': nan, 'April': nan, 'May': nan, 'June': nan, 'July': 9189.42564102564, 'August': 37998.78760664571, 'September': 30306.82834850455, 'October': 29762.423076923078, 'November': 22384.710997442457, 'December': nan}\n"
     ]
    }
   ],
   "source": [
    "# average device retainment time by month\n",
    "month_time_dict = {\n",
    "    'January': 0,\n",
    "    'February': 0,\n",
    "    'March': 0,\n",
    "    'April': 0,\n",
    "    'May': 0,\n",
    "    'June': 0,\n",
    "    'July': 0,\n",
    "    'August': 0,\n",
    "    'September': 0,\n",
    "    'October': 0,\n",
    "    'November': 0,\n",
    "    'December': 0\n",
    "}\n",
    "\n",
    "# for df['intv_actv'] where activation_month is X, get average value\n",
    "for month in list(month_time_dict.keys()):\n",
    "    temp_df = df[df['activation_month'] == month]\n",
    "    month_time_dict[month] = float(temp_df['interval - activate (s)'].mean())\n",
    "\n",
    "print(month_time_dict)"
   ]
  }
 ],
 "metadata": {
  "kernelspec": {
   "display_name": "venv",
   "language": "python",
   "name": "python3"
  },
  "language_info": {
   "codemirror_mode": {
    "name": "ipython",
    "version": 3
   },
   "file_extension": ".py",
   "mimetype": "text/x-python",
   "name": "python",
   "nbconvert_exporter": "python",
   "pygments_lexer": "ipython3",
   "version": "3.13.1"
  }
 },
 "nbformat": 4,
 "nbformat_minor": 2
}
