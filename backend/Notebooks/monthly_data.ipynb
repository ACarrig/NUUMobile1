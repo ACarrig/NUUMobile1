{
 "cells": [
  {
   "cell_type": "code",
   "execution_count": 50,
   "metadata": {},
   "outputs": [],
   "source": [
    "import pandas as pd\n",
    "import numpy as np\n",
    "import matplotlib.pyplot as plt\n",
    "from datetime import datetime"
   ]
  },
  {
   "cell_type": "code",
   "execution_count": 51,
   "metadata": {},
   "outputs": [
    {
     "name": "stdout",
     "output_type": "stream",
     "text": [
      "Index(['Sale Channel', 'Model', 'Warranty', 'Feedback', 'Verification',\n",
      "       'Defect / Damage type', 'Responsible Party', 'Type',\n",
      "       'Spare Parts Used if returned', 'Final Status',\n",
      "       'Customer Service Requested', 'Number of Sim', 'Sim Country', 'Slot 1',\n",
      "       'Slot 2', 'Sim Card', 'Screen Usage (s)', 'App Usage (s)',\n",
      "       'Bluetooth (# of pairs)', 'Wifi/Internet Connection', 'Wallpaper',\n",
      "       'Registered Email', 'last boot - activate', 'last boot - interval',\n",
      "       'interval date', 'last bootl date', 'activate date', 'Age Range'],\n",
      "      dtype='object')\n"
     ]
    }
   ],
   "source": [
    "# load the excel sheet into a Dataframe\n",
    "xls_file = pd.ExcelFile(\"./UW_Churn_Pred_Data.xls\")\n",
    "\n",
    "# Create a dataframe of the 'Data' sheet\n",
    "df = pd.read_excel(xls_file, sheet_name=\"Data\")\n",
    "\n",
    "columns = df.columns\n",
    "print(columns)"
   ]
  },
  {
   "cell_type": "code",
   "execution_count": 52,
   "metadata": {},
   "outputs": [],
   "source": [
    "activate_dates = df['activate date'].tolist()\n",
    "interval_dates = df['interval date'].tolist()"
   ]
  },
  {
   "cell_type": "code",
   "execution_count": 63,
   "metadata": {},
   "outputs": [],
   "source": [
    "# Get interval_dates - activate_dates for time retaining device\n",
    "#    can then see how long (on avg.) a device is kept\n",
    "intv_actv = []\n",
    "for activation, interval in zip(activate_dates, interval_dates):\n",
    "    if activation != 0 and interval != 0:\n",
    "        try:\n",
    "            activate_dt = datetime.strptime(activation, \"%Y-%m-%d %H:%M:%S\")\n",
    "            interval_dt = datetime.strptime(interval, \"%Y-%m-%d %H:%M:%S\")\n",
    "\n",
    "            intv_actv.append((interval_dt - activate_dt).seconds)\n",
    "        except:\n",
    "            intv_actv.append(0)\n",
    "    else:\n",
    "        intv_actv.append(0) "
   ]
  },
  {
   "cell_type": "code",
   "execution_count": 66,
   "metadata": {},
   "outputs": [],
   "source": [
    "# Get activation month\n",
    "activation_month = []\n",
    "month_conv = {\n",
    "    12: 'December',\n",
    "    11: 'November',\n",
    "    10: 'October',\n",
    "    9: 'September',\n",
    "    8: 'August',\n",
    "    7: 'July',\n",
    "    6: 'June',\n",
    "    5: 'May',\n",
    "    4: 'April',\n",
    "    3: 'March',\n",
    "    2: 'February',\n",
    "    1: 'January'\n",
    "}\n",
    "\n",
    "for activation in activate_dates:\n",
    "    if activation != 0:\n",
    "        try:\n",
    "            activate_dt = datetime.strptime(activation, \"%Y-%m-%d %H:%M:%S\")\n",
    "            activation_month.append(month_conv[activate_dt.month])\n",
    "        except:\n",
    "            activation_month.append('None')\n",
    "    else:\n",
    "        activation_month.append('None')"
   ]
  },
  {
   "cell_type": "code",
   "execution_count": 67,
   "metadata": {},
   "outputs": [
    {
     "name": "stdout",
     "output_type": "stream",
     "text": [
      "    Sale Channel      Model Warranty       Feedback           Verification  \\\n",
      "0  B2C 3rd party        B20      Yes  Amazon Return  no damages, no issues   \n",
      "1  B2C 3rd party   A23 Plus      Yes  Amazon Return  no damages, no issues   \n",
      "2  B2C 3rd party        A15      Yes            NaN                    NaN   \n",
      "3  B2C 3rd party   A23 Plus      Yes  Amazon Return  no damages, no issues   \n",
      "4  B2C 3rd party        B20      Yes  Amazon Return  no damages, no issues   \n",
      "5  B2C 3rd party   A23 Plus      Yes  Amazon Return  no damages, no issues   \n",
      "6  B2C 3rd party   A23 Plus      Yes  Amazon Return  no damages, no issues   \n",
      "7  B2C 3rd party  Earbuds A      Yes  Amazon Return       opened packaging   \n",
      "8  B2C 3rd party   A23 Plus      Yes  Amazon Return  no damages, no issues   \n",
      "9  B2C 3rd party   A23 Plus      Yes  Amazon Return  no damages, no issues   \n",
      "\n",
      "  Defect / Damage type  Responsible Party    Type  \\\n",
      "0            No defect  Customer: Remorse  Return   \n",
      "1            No defect  Customer: Remorse  Return   \n",
      "2                  NaN                NaN     NaN   \n",
      "3            No defect  Customer: Remorse  Return   \n",
      "4            No defect  Customer: Remorse  Return   \n",
      "5            No defect  Customer: Remorse  Return   \n",
      "6            No defect  Customer: Remorse  Return   \n",
      "7            No defect  Customer: Remorse  Return   \n",
      "8            No defect  Customer: Remorse  Return   \n",
      "9            No defect  Customer: Remorse  Return   \n",
      "\n",
      "  Spare Parts Used if returned Final Status  ...  Wallpaper  Registered Email  \\\n",
      "0                           No     Refurb A  ...          1               1.0   \n",
      "1                           No     Refurb B  ...          1               1.0   \n",
      "2                          NaN          NaN  ...          2               NaN   \n",
      "3                           No     Refurb B  ...          1               0.0   \n",
      "4                           No     Refurb B  ...          0               1.0   \n",
      "5                           No     Refurb B  ...          1               1.0   \n",
      "6                           No     Refurb B  ...          0               1.0   \n",
      "7                           No     Refurb B  ...          2               1.0   \n",
      "8                           No     Refurb B  ...          3               1.0   \n",
      "9                           No     Refurb B  ...          0               0.0   \n",
      "\n",
      "  last boot - activate last boot - interval        interval date  \\\n",
      "0             0.000000             0.000000  2024-11-18 00:52:52   \n",
      "1             0.000023             0.000000  2024-11-18 00:35:59   \n",
      "2             0.000000             0.000000  2024-11-17 23:42:12   \n",
      "3             0.151493             0.151481  2024-11-17 23:28:58   \n",
      "4             0.000000             0.000000  2024-11-17 21:50:16   \n",
      "5             0.053692             0.053681  2024-11-17 21:43:23   \n",
      "6             0.000012            -0.085289  2024-11-17 23:11:02   \n",
      "7             0.020498             0.020498  2024-11-17 19:01:12   \n",
      "8             0.000000             0.000000  2024-11-17 18:03:39   \n",
      "9             0.038322             0.038310  2024-11-17 16:18:39   \n",
      "\n",
      "       last bootl date        activate date Age Range  \\\n",
      "0  2024-11-18 00:52:52  2024-11-18 00:52:52     30-40   \n",
      "1  2024-11-18 00:35:59  2024-11-18 00:35:57     30-40   \n",
      "2  2024-11-17 23:42:12  2024-11-17 23:42:12     20-30   \n",
      "3  2024-11-18 03:07:06  2024-11-17 23:28:57     20-30   \n",
      "4  2024-11-17 21:50:16  2024-11-17 21:50:16     40-50   \n",
      "5  2024-11-17 23:00:41  2024-11-17 21:43:22     30-40   \n",
      "6  2024-11-17 21:08:13  2024-11-17 21:08:12     20-30   \n",
      "7  2024-11-17 19:30:43  2024-11-17 19:01:12     60-70   \n",
      "8  2024-11-17 18:03:39  2024-11-17 18:03:39     70-80   \n",
      "9  2024-11-17 17:13:49  2024-11-17 16:18:38     70-80   \n",
      "\n",
      "   interval - activate (s)  activation_month  \n",
      "0                        0          November  \n",
      "1                        2          November  \n",
      "2                        0          November  \n",
      "3                        1          November  \n",
      "4                        0          November  \n",
      "5                        1          November  \n",
      "6                     7370          November  \n",
      "7                        0          November  \n",
      "8                        0          November  \n",
      "9                        1          November  \n",
      "\n",
      "[10 rows x 30 columns]\n"
     ]
    }
   ],
   "source": [
    "# Add intv_active and activation_month to dataframe\n",
    "df['activation_month'] = activation_month\n",
    "df['interval - activate (s)'] = intv_actv\n",
    "print(df.head(10))"
   ]
  },
  {
   "cell_type": "code",
   "execution_count": 56,
   "metadata": {},
   "outputs": [
    {
     "name": "stdout",
     "output_type": "stream",
     "text": [
      "8.555611187757084 hours a device is kept, on average across all data\n"
     ]
    }
   ],
   "source": [
    "# avg time in seconds device is retained\n",
    "total = 0\n",
    "for time in intv_actv:\n",
    "    total += time\n",
    "print(str((total / len(intv_actv)) / 3600) + \" hours a device is kept, on average across all data\")"
   ]
  },
  {
   "cell_type": "code",
   "execution_count": null,
   "metadata": {},
   "outputs": [],
   "source": [
    "# Go over activate list, and depending on month, seperate out data\n",
    "#    can see total sales by month\n",
    "#    can see sales of each model by month\n",
    "#    can see how long a device is kept on avg, by month activated\n",
    "#    can then see churn by month"
   ]
  },
  {
   "cell_type": "code",
   "execution_count": null,
   "metadata": {},
   "outputs": [],
   "source": [
    "# Total sales by month\n"
   ]
  },
  {
   "cell_type": "code",
   "execution_count": null,
   "metadata": {},
   "outputs": [],
   "source": [
    "# Sales of models by month"
   ]
  },
  {
   "cell_type": "code",
   "execution_count": null,
   "metadata": {},
   "outputs": [],
   "source": [
    "# device retainment time by month\n",
    "month_time_dict = {\n",
    "    'January': 0,\n",
    "    'February': 0,\n",
    "    'March': 0,\n",
    "    'April': 0,\n",
    "    'May': 0,\n",
    "    'June': 0,\n",
    "    'July': 0,\n",
    "    'August': 0,\n",
    "    'September': 0,\n",
    "    'October': 0,\n",
    "    'November': 0,\n",
    "    'December': 0\n",
    "}\n",
    "\n"
   ]
  },
  {
   "cell_type": "code",
   "execution_count": null,
   "metadata": {},
   "outputs": [],
   "source": [
    "# churn by month"
   ]
  }
 ],
 "metadata": {
  "kernelspec": {
   "display_name": "venv",
   "language": "python",
   "name": "python3"
  },
  "language_info": {
   "codemirror_mode": {
    "name": "ipython",
    "version": 3
   },
   "file_extension": ".py",
   "mimetype": "text/x-python",
   "name": "python",
   "nbconvert_exporter": "python",
   "pygments_lexer": "ipython3",
   "version": "3.13.1"
  }
 },
 "nbformat": 4,
 "nbformat_minor": 2
}
